{
 "cells": [
  {
   "cell_type": "markdown",
   "metadata": {},
   "source": [
    "# Part 2A: Parallel HDF5\n",
    "\n",
    "Goals:\n",
    "------\n",
    "\n",
    " * Understand the different options (versions) of the HDF5 library. \n",
    " * Understand the need to know which instance of the HDF5 library h5py and/or pytables is linked to.\n",
    " * Explore Parallel HDF5 in h5py\n",
    " * Explore Single Reader Multiple Writer (SMWR) mode of HDF5 1.10 in h5py"
   ]
  },
  {
   "cell_type": "markdown",
   "metadata": {},
   "source": [
    "## About concurrent reading and writing:\n",
    "\n",
    "### Concurrent reading:\n",
    " * When `libhdf5` is compiled with `thread safety` enabled, there is an internal locking mechanism that serialises reads at the `libhdf5` level. Thread safety does result in better multi-core performance.\n",
    " * No thread-safety support on Windows.\n",
    " * Reading from separate processes (`multiprocessing`) is fine, but file cannot be open for writing.\n",
    "\n",
    "### Concurrent writing:\n",
    " * MPI: Needs `libhdf5` compiled with `parallel HDF5` enabled. Supported in `h5py`.  Not supported in `pytables`.\n",
    " * multiprocessing: Writing to temp files and collecting afterwards. \n",
    " * multiprocessing: Writing to a single file and provide your own locking mechanism.\n",
    " \n",
    " \n",
    "### Single writer, multiple reader (SWMR)\n",
    " * From `HDF5 >= 1.10` supported in `h5py>=2.5`. Not supported in `pytables`. "
   ]
  },
  {
   "cell_type": "markdown",
   "metadata": {},
   "source": [
    "## Find your `libhdf5` settings\n",
    "\n",
    "Let's check the configuration of the installed HDF5 library.\n",
    "\n",
    "Multiple instances of the HDF5 library may be installed on a system. Let's find which instance we are using.\n",
    "\n",
    "The HDF5 configuration is summarised in a text file `libhdf5.settings`. Let's find it."
   ]
  },
  {
   "cell_type": "markdown",
   "metadata": {},
   "source": [
    "### h5cc\n",
    "\n",
    "`h5cc` is a wrapper script around `cc` that can print `libhdf5.settings`. "
   ]
  },
  {
   "cell_type": "code",
   "execution_count": 1,
   "metadata": {},
   "outputs": [
    {
     "name": "stdout",
     "output_type": "stream",
     "text": [
      "\t    SUMMARY OF THE HDF5 CONFIGURATION\r\n",
      "\t    =================================\r\n",
      "\r\n",
      "General Information:\r\n",
      "-------------------\r\n",
      "\t\t   HDF5 Version: 1.8.18\r\n",
      "\t\t  Configured on: Wed May 31 22:18:44 UTC 2017\r\n",
      "\t\t  Configured by: root@2432844d2dde\r\n",
      "\t\t Configure mode: production\r\n",
      "\t\t    Host system: x86_64-unknown-linux-gnu\r\n",
      "\t      Uname information: Linux 2432844d2dde 3.13.0-119-generic #166-Ubuntu SMP Wed May 3 12:18:55 UTC 2017 x86_64 x86_64 x86_64 GNU/Linux\r\n",
      "\t\t       Byte sex: little-endian\r\n",
      "\t\t      Libraries: static, shared\r\n",
      "\t     Installation point: /home/vagrant/miniconda3\r\n",
      "\r\n",
      "Compiling Options:\r\n",
      "------------------\r\n",
      "               Compilation Mode: production\r\n",
      "                     C Compiler: /opt/rh/devtoolset-2/root/usr/bin/gcc ( gcc (GCC) 4.8.2 20140120 )\r\n",
      "                         CFLAGS:  -m64\r\n",
      "                      H5_CFLAGS: -std=c99 -pedantic -Wall -Wextra -Wundef -Wshadow -Wpointer-arith -Wbad-function-cast -Wcast-qual -Wcast-align -Wwrite-strings -Wconversion -Waggregate-return -Wstrict-prototypes -Wmissing-prototypes -Wmissing-declarations -Wredundant-decls -Wnested-externs -Winline -Wfloat-equal -Wmissing-format-attribute -Wmissing-noreturn -Wpacked -Wdisabled-optimization -Wformat=2 -Wunreachable-code -Wendif-labels -Wdeclaration-after-statement -Wold-style-definition -Winvalid-pch -Wvariadic-macros -Winit-self -Wmissing-include-dirs -Wswitch-default -Wswitch-enum -Wunused-macros -Wunsafe-loop-optimizations -Wc++-compat -Wstrict-overflow -Wlogical-op -Wlarger-than=2048 -Wvla -Wsync-nand -Wframe-larger-than=16384 -Wpacked-bitfield-compat -Wstrict-overflow=5 -Wjump-misses-init -Wdouble-promotion -Wsuggest-attribute=const -Wtrampolines -Wstack-usage=8192 -Wvector-operation-performance -Wsuggest-attribute=pure -Wsuggest-attribute=noreturn -Wsuggest-attribute=format -O3\r\n",
      "                      AM_CFLAGS: \r\n",
      "                       CPPFLAGS: \r\n",
      "                    H5_CPPFLAGS: -D_GNU_SOURCE -D_POSIX_C_SOURCE=200112L   -DNDEBUG -UH5_DEBUG_API\r\n",
      "                    AM_CPPFLAGS:  -I/home/vagrant/miniconda3/include\r\n",
      "               Shared C Library: yes\r\n",
      "               Static C Library: yes\r\n",
      "  Statically Linked Executables: no\r\n",
      "                        LDFLAGS: \r\n",
      "                     H5_LDFLAGS: \r\n",
      "                     AM_LDFLAGS:  -L/home/vagrant/miniconda3/lib\r\n",
      " \t \tExtra libraries: -lrt -lpthread -lz -ldl -lm \r\n",
      " \t\t       Archiver: ar\r\n",
      " \t\t \t Ranlib: ranlib\r\n",
      " \t      Debugged Packages: \r\n",
      "\t\t    API Tracing: no\r\n",
      "\r\n",
      "Languages:\r\n",
      "----------\r\n",
      "                        Fortran: yes\r\n",
      "               Fortran Compiler: /opt/rh/devtoolset-2/root/usr/bin/gfortran ( GNU Fortran (GCC) 4.8.2 20140120 )\r\n",
      "          Fortran 2003 Compiler: yes\r\n",
      "                  Fortran Flags: \r\n",
      "               H5 Fortran Flags:  \r\n",
      "               AM Fortran Flags: \r\n",
      "         Shared Fortran Library: yes\r\n",
      "         Static Fortran Library: yes\r\n",
      "\r\n",
      "                            C++: yes\r\n",
      "                   C++ Compiler: /opt/rh/devtoolset-2/root/usr/bin/g++ ( g++ (GCC) 4.8.2 20140120 )\r\n",
      "                      C++ Flags:  -DBOOST_MATH_DISABLE_FLOAT128 -m64\r\n",
      "                   H5 C++ Flags:  \r\n",
      "                   AM C++ Flags: \r\n",
      "             Shared C++ Library: yes\r\n",
      "             Static C++ Library: yes\r\n",
      "\r\n",
      "Features:\r\n",
      "---------\r\n",
      "                  Parallel HDF5: no\r\n",
      "             High Level library: yes\r\n",
      "                   Threadsafety: yes\r\n",
      "            Default API Mapping: v18\r\n",
      " With Deprecated Public Symbols: yes\r\n",
      "         I/O filters (external): deflate(zlib)\r\n",
      "                            MPE: no\r\n",
      "                     Direct VFD: no\r\n",
      "                        dmalloc: no\r\n",
      "Clear file buffers before write: yes\r\n",
      "           Using memory checker: no\r\n",
      "         Function Stack Tracing: no\r\n",
      "      Strict File Format Checks: no\r\n",
      "   Optimization Instrumentation: no\r\n"
     ]
    }
   ],
   "source": [
    "!h5cc -showconfig"
   ]
  },
  {
   "cell_type": "markdown",
   "metadata": {},
   "source": [
    "Beware: The jupyter notebook may not be in (is probalby not in) the same environment as the current running kernel.\n",
    "\n",
    "### Find your libhdf5 location"
   ]
  },
  {
   "cell_type": "code",
   "execution_count": 1,
   "metadata": {},
   "outputs": [
    {
     "data": {
      "text/plain": [
       "'/home/vagrant/miniconda3/lib/python3.6/site-packages/h5py/__init__.py'"
      ]
     },
     "execution_count": 1,
     "metadata": {},
     "output_type": "execute_result"
    }
   ],
   "source": [
    "import h5py\n",
    "h5py.__file__"
   ]
  },
  {
   "cell_type": "code",
   "execution_count": 3,
   "metadata": {},
   "outputs": [
    {
     "name": "stdout",
     "output_type": "stream",
     "text": [
      "/home/vagrant/miniconda3/lib/libhdf5.settings\r\n"
     ]
    }
   ],
   "source": [
    "!find /home/vagrant/miniconda3/lib/ | grep hdf5.settings"
   ]
  },
  {
   "cell_type": "markdown",
   "metadata": {},
   "source": [
    "How can we be sure this is the correct `libhdf5.settings`?\n",
    "\n",
    "Let's investigate the runtime libaries that h5py is linked to:"
   ]
  },
  {
   "cell_type": "code",
   "execution_count": 21,
   "metadata": {},
   "outputs": [
    {
     "name": "stdout",
     "output_type": "stream",
     "text": [
      "/home/vagrant/miniconda3/lib/python3.6/site-packages/h5py/_conv.cpython-36m-x86_64-linux-gnu.so\r\n",
      "/home/vagrant/miniconda3/lib/python3.6/site-packages/h5py/defs.cpython-36m-x86_64-linux-gnu.so\r\n",
      "/home/vagrant/miniconda3/lib/python3.6/site-packages/h5py/_errors.cpython-36m-x86_64-linux-gnu.so\r\n",
      "/home/vagrant/miniconda3/lib/python3.6/site-packages/h5py/h5ac.cpython-36m-x86_64-linux-gnu.so\r\n",
      "/home/vagrant/miniconda3/lib/python3.6/site-packages/h5py/h5a.cpython-36m-x86_64-linux-gnu.so\r\n",
      "/home/vagrant/miniconda3/lib/python3.6/site-packages/h5py/h5.cpython-36m-x86_64-linux-gnu.so\r\n",
      "/home/vagrant/miniconda3/lib/python3.6/site-packages/h5py/h5d.cpython-36m-x86_64-linux-gnu.so\r\n",
      "/home/vagrant/miniconda3/lib/python3.6/site-packages/h5py/h5ds.cpython-36m-x86_64-linux-gnu.so\r\n",
      "/home/vagrant/miniconda3/lib/python3.6/site-packages/h5py/h5f.cpython-36m-x86_64-linux-gnu.so\r\n",
      "/home/vagrant/miniconda3/lib/python3.6/site-packages/h5py/h5fd.cpython-36m-x86_64-linux-gnu.so\r\n",
      "/home/vagrant/miniconda3/lib/python3.6/site-packages/h5py/h5g.cpython-36m-x86_64-linux-gnu.so\r\n",
      "/home/vagrant/miniconda3/lib/python3.6/site-packages/h5py/h5i.cpython-36m-x86_64-linux-gnu.so\r\n",
      "/home/vagrant/miniconda3/lib/python3.6/site-packages/h5py/h5l.cpython-36m-x86_64-linux-gnu.so\r\n",
      "/home/vagrant/miniconda3/lib/python3.6/site-packages/h5py/h5o.cpython-36m-x86_64-linux-gnu.so\r\n",
      "/home/vagrant/miniconda3/lib/python3.6/site-packages/h5py/h5p.cpython-36m-x86_64-linux-gnu.so\r\n",
      "/home/vagrant/miniconda3/lib/python3.6/site-packages/h5py/h5r.cpython-36m-x86_64-linux-gnu.so\r\n",
      "/home/vagrant/miniconda3/lib/python3.6/site-packages/h5py/h5s.cpython-36m-x86_64-linux-gnu.so\r\n",
      "/home/vagrant/miniconda3/lib/python3.6/site-packages/h5py/h5t.cpython-36m-x86_64-linux-gnu.so\r\n",
      "/home/vagrant/miniconda3/lib/python3.6/site-packages/h5py/h5z.cpython-36m-x86_64-linux-gnu.so\r\n",
      "/home/vagrant/miniconda3/lib/python3.6/site-packages/h5py/_objects.cpython-36m-x86_64-linux-gnu.so\r\n",
      "/home/vagrant/miniconda3/lib/python3.6/site-packages/h5py/_proxy.cpython-36m-x86_64-linux-gnu.so\r\n",
      "/home/vagrant/miniconda3/lib/python3.6/site-packages/h5py/utils.cpython-36m-x86_64-linux-gnu.so\r\n"
     ]
    }
   ],
   "source": [
    "!ls /home/vagrant/miniconda3/lib/python3.6/site-packages/h5py/*.so"
   ]
  },
  {
   "cell_type": "markdown",
   "metadata": {},
   "source": [
    "The runtime linker `ldd` can tell us which library we are (runtime) linking to:"
   ]
  },
  {
   "cell_type": "code",
   "execution_count": 5,
   "metadata": {},
   "outputs": [
    {
     "name": "stdout",
     "output_type": "stream",
     "text": [
      "\tlinux-vdso.so.1 =>  (0x00007ffc63ff2000)\r\n",
      "\tlibhdf5.so.10 => /home/vagrant/miniconda3/lib/python3.6/site-packages/h5py/../../../libhdf5.so.10 (0x00007fd8e6e8a000)\r\n",
      "\tlibhdf5_hl.so.10 => /home/vagrant/miniconda3/lib/python3.6/site-packages/h5py/../../../libhdf5_hl.so.10 (0x00007fd8e6c6a000)\r\n",
      "\tlibpython3.6m.so.1.0 => /home/vagrant/miniconda3/lib/python3.6/site-packages/h5py/../../../libpython3.6m.so.1.0 (0x00007fd8e6765000)\r\n",
      "\tlibpthread.so.0 => /lib/x86_64-linux-gnu/libpthread.so.0 (0x00007fd8e6547000)\r\n",
      "\tlibc.so.6 => /lib/x86_64-linux-gnu/libc.so.6 (0x00007fd8e617f000)\r\n",
      "\tlibrt.so.1 => /lib/x86_64-linux-gnu/librt.so.1 (0x00007fd8e5f77000)\r\n",
      "\tlibz.so.1 => /home/vagrant/miniconda3/lib/python3.6/site-packages/h5py/../../.././libz.so.1 (0x00007fd8e5d61000)\r\n",
      "\tlibdl.so.2 => /lib/x86_64-linux-gnu/libdl.so.2 (0x00007fd8e5b5d000)\r\n",
      "\tlibm.so.6 => /lib/x86_64-linux-gnu/libm.so.6 (0x00007fd8e5857000)\r\n",
      "\tlibutil.so.1 => /lib/x86_64-linux-gnu/libutil.so.1 (0x00007fd8e5654000)\r\n",
      "\t/lib64/ld-linux-x86-64.so.2 (0x00007fd8e7594000)\r\n"
     ]
    }
   ],
   "source": [
    "!ldd /home/vagrant/miniconda3/lib/python3.6/site-packages/h5py/h5g*.so "
   ]
  },
  {
   "cell_type": "markdown",
   "metadata": {},
   "source": [
    "Now we can be sure we have the correct `libhdf5.settings`:"
   ]
  },
  {
   "cell_type": "code",
   "execution_count": 6,
   "metadata": {},
   "outputs": [
    {
     "name": "stdout",
     "output_type": "stream",
     "text": [
      "\t    SUMMARY OF THE HDF5 CONFIGURATION\r\n",
      "\t    =================================\r\n",
      "\r\n",
      "General Information:\r\n",
      "-------------------\r\n",
      "\t\t   HDF5 Version: 1.8.18\r\n",
      "\t\t  Configured on: Wed May 31 22:18:44 UTC 2017\r\n",
      "\t\t  Configured by: root@2432844d2dde\r\n",
      "\t\t Configure mode: production\r\n",
      "\t\t    Host system: x86_64-unknown-linux-gnu\r\n",
      "\t      Uname information: Linux 2432844d2dde 3.13.0-119-generic #166-Ubuntu SMP Wed May 3 12:18:55 UTC 2017 x86_64 x86_64 x86_64 GNU/Linux\r\n",
      "\t\t       Byte sex: little-endian\r\n",
      "\t\t      Libraries: static, shared\r\n",
      "\t     Installation point: /home/vagrant/miniconda3\r\n",
      "\r\n",
      "Compiling Options:\r\n",
      "------------------\r\n",
      "               Compilation Mode: production\r\n",
      "                     C Compiler: /opt/rh/devtoolset-2/root/usr/bin/gcc ( gcc (GCC) 4.8.2 20140120 )\r\n",
      "                         CFLAGS:  -m64\r\n",
      "                      H5_CFLAGS: -std=c99 -pedantic -Wall -Wextra -Wundef -Wshadow -Wpointer-arith -Wbad-function-cast -Wcast-qual -Wcast-align -Wwrite-strings -Wconversion -Waggregate-return -Wstrict-prototypes -Wmissing-prototypes -Wmissing-declarations -Wredundant-decls -Wnested-externs -Winline -Wfloat-equal -Wmissing-format-attribute -Wmissing-noreturn -Wpacked -Wdisabled-optimization -Wformat=2 -Wunreachable-code -Wendif-labels -Wdeclaration-after-statement -Wold-style-definition -Winvalid-pch -Wvariadic-macros -Winit-self -Wmissing-include-dirs -Wswitch-default -Wswitch-enum -Wunused-macros -Wunsafe-loop-optimizations -Wc++-compat -Wstrict-overflow -Wlogical-op -Wlarger-than=2048 -Wvla -Wsync-nand -Wframe-larger-than=16384 -Wpacked-bitfield-compat -Wstrict-overflow=5 -Wjump-misses-init -Wdouble-promotion -Wsuggest-attribute=const -Wtrampolines -Wstack-usage=8192 -Wvector-operation-performance -Wsuggest-attribute=pure -Wsuggest-attribute=noreturn -Wsuggest-attribute=format -O3\r\n",
      "                      AM_CFLAGS: \r\n",
      "                       CPPFLAGS: \r\n",
      "                    H5_CPPFLAGS: -D_GNU_SOURCE -D_POSIX_C_SOURCE=200112L   -DNDEBUG -UH5_DEBUG_API\r\n",
      "                    AM_CPPFLAGS:  -I/home/vagrant/miniconda3/include\r\n",
      "               Shared C Library: yes\r\n",
      "               Static C Library: yes\r\n",
      "  Statically Linked Executables: no\r\n",
      "                        LDFLAGS: \r\n",
      "                     H5_LDFLAGS: \r\n",
      "                     AM_LDFLAGS:  -L/home/vagrant/miniconda3/lib\r\n",
      " \t \tExtra libraries: -lrt -lpthread -lz -ldl -lm \r\n",
      " \t\t       Archiver: ar\r\n",
      " \t\t \t Ranlib: ranlib\r\n",
      " \t      Debugged Packages: \r\n",
      "\t\t    API Tracing: no\r\n",
      "\r\n",
      "Languages:\r\n",
      "----------\r\n",
      "                        Fortran: yes\r\n",
      "               Fortran Compiler: /opt/rh/devtoolset-2/root/usr/bin/gfortran ( GNU Fortran (GCC) 4.8.2 20140120 )\r\n",
      "          Fortran 2003 Compiler: yes\r\n",
      "                  Fortran Flags: \r\n",
      "               H5 Fortran Flags:  \r\n",
      "               AM Fortran Flags: \r\n",
      "         Shared Fortran Library: yes\r\n",
      "         Static Fortran Library: yes\r\n",
      "\r\n",
      "                            C++: yes\r\n",
      "                   C++ Compiler: /opt/rh/devtoolset-2/root/usr/bin/g++ ( g++ (GCC) 4.8.2 20140120 )\r\n",
      "                      C++ Flags:  -DBOOST_MATH_DISABLE_FLOAT128 -m64\r\n",
      "                   H5 C++ Flags:  \r\n",
      "                   AM C++ Flags: \r\n",
      "             Shared C++ Library: yes\r\n",
      "             Static C++ Library: yes\r\n",
      "\r\n",
      "Features:\r\n",
      "---------\r\n",
      "                  Parallel HDF5: no\r\n",
      "             High Level library: yes\r\n",
      "                   Threadsafety: yes\r\n",
      "            Default API Mapping: v18\r\n",
      " With Deprecated Public Symbols: yes\r\n",
      "         I/O filters (external): deflate(zlib)\r\n",
      "                            MPE: no\r\n",
      "                     Direct VFD: no\r\n",
      "                        dmalloc: no\r\n",
      "Clear file buffers before write: yes\r\n",
      "           Using memory checker: no\r\n",
      "         Function Stack Tracing: no\r\n",
      "      Strict File Format Checks: no\r\n",
      "   Optimization Instrumentation: no\r\n"
     ]
    }
   ],
   "source": [
    "!cat /home/vagrant/miniconda3/lib/libhdf5.settings"
   ]
  },
  {
   "cell_type": "markdown",
   "metadata": {},
   "source": [
    "-------------------------------------------------------------\n",
    "\n",
    "## Exercise"
   ]
  },
  {
   "cell_type": "markdown",
   "metadata": {
    "collapsed": true
   },
   "source": [
    "Goal: Become aware of `libhdf5` instances and configurations.\n",
    "\n",
    "Time: 5 minutes.\n",
    "\n",
    "* Find the instance of `libhdf5` that `h5py` (or `pytables`) is (runtime) linked to.\n",
    "* Study the contents of the file `libhdf5.settings` (or `hdf5.settings`)"
   ]
  },
  {
   "cell_type": "code",
   "execution_count": null,
   "metadata": {
    "collapsed": true
   },
   "outputs": [],
   "source": []
  },
  {
   "cell_type": "markdown",
   "metadata": {},
   "source": [
    "Beware:\n",
    "\n",
    "HDF5 1.8.17 ---> CVEs from 2016\n",
    "\n",
    "* Thread-safety and parallel HDF5 (MPI) are mutally exclusive options.\n",
    "* On Linux/OSX threadsafety is usually ON. \n",
    "* On Windows it is usually OFF. \n",
    "\n",
    "Check your installation.\n",
    "\n"
   ]
  },
  {
   "cell_type": "markdown",
   "metadata": {
    "collapsed": true
   },
   "source": [
    "# Parallel HDF5 using h5py (MPI)"
   ]
  },
  {
   "cell_type": "code",
   "execution_count": 1,
   "metadata": {
    "collapsed": true
   },
   "outputs": [],
   "source": [
    "import mpi4py"
   ]
  },
  {
   "cell_type": "code",
   "execution_count": 2,
   "metadata": {},
   "outputs": [
    {
     "data": {
      "text/plain": [
       "'/home/vagrant/miniconda3/envs/hdf5-mpi/lib/python2.7/site-packages/mpi4py/__init__.pyc'"
      ]
     },
     "execution_count": 2,
     "metadata": {},
     "output_type": "execute_result"
    }
   ],
   "source": [
    "mpi4py.__file__"
   ]
  },
  {
   "cell_type": "code",
   "execution_count": 8,
   "metadata": {
    "collapsed": true
   },
   "outputs": [],
   "source": [
    "#!cat /home/vagrant/miniconda3/envs/hdf5-mpi/lib/libhdf5.settings"
   ]
  },
  {
   "cell_type": "markdown",
   "metadata": {},
   "source": [
    "__MPI example from the h5py docs:__\n",
    "\n",
    "Open an HDF5 file, create a dataset (0, 0, 0, 0) and store\n",
    "\n",
    "```\n",
    "dataset[process_id] = process_id\n",
    "```\n",
    "    "
   ]
  },
  {
   "cell_type": "code",
   "execution_count": 4,
   "metadata": {
    "collapsed": true
   },
   "outputs": [],
   "source": [
    "from mpi4py import MPI  \n",
    "import h5py\n",
    "\n",
    "rank = MPI.COMM_WORLD.rank  # The process ID (integer 0-3 for 4-process run)\n",
    "\n",
    "# This changes metadata (creates a dataset): Collective operation. \n",
    "# All processes must do this.\n",
    "f = h5py.File('parallel_test.hdf5', 'w', driver='mpio', comm=MPI.COMM_WORLD)\n",
    "\n",
    "# independent operation: Different for each process.\n",
    "dset = f.create_dataset('test', (4,), dtype='i')\n",
    "dset[rank] = rank\n",
    "\n",
    "f.close()"
   ]
  },
  {
   "cell_type": "code",
   "execution_count": 88,
   "metadata": {},
   "outputs": [
    {
     "name": "stdout",
     "output_type": "stream",
     "text": [
      "HDF5 \"parallel_test.hdf5\" {\r\n",
      "GROUP \"/\" {\r\n",
      "   DATASET \"test\" {\r\n",
      "      DATATYPE  H5T_STD_I32LE\r\n",
      "      DATASPACE  SIMPLE { ( 4 ) / ( 4 ) }\r\n",
      "      DATA {\r\n",
      "      (0): 0, 0, 0, 0\r\n",
      "      }\r\n",
      "   }\r\n",
      "}\r\n",
      "}\r\n"
     ]
    }
   ],
   "source": [
    "!h5dump parallel_test.hdf5"
   ]
  },
  {
   "cell_type": "markdown",
   "metadata": {},
   "source": [
    "Obviously, inside the notebook, this does not run in parallel.\n",
    "\n",
    "We need to use `mpiexec` to start parallel processes:"
   ]
  },
  {
   "cell_type": "markdown",
   "metadata": {},
   "source": [
    "From a shell run:\n",
    "    \n",
    "```\n",
    "source activate hdf5-mpi    # activate correct environment \n",
    "!mpiexec -n 4 python demo_mpi.py\n",
    "```"
   ]
  },
  {
   "cell_type": "code",
   "execution_count": 4,
   "metadata": {},
   "outputs": [
    {
     "name": "stdout",
     "output_type": "stream",
     "text": [
      "HDF5 \"parallel_test.hdf5\" {\r\n",
      "GROUP \"/\" {\r\n",
      "   DATASET \"test\" {\r\n",
      "      DATATYPE  H5T_STD_I32LE\r\n",
      "      DATASPACE  SIMPLE { ( 4 ) / ( 4 ) }\r\n",
      "      DATA {\r\n",
      "      (0): 0, 1, 2, 3\r\n",
      "      }\r\n",
      "   }\r\n",
      "}\r\n",
      "}\r\n"
     ]
    }
   ],
   "source": [
    "!h5dump parallel_test.hdf5"
   ]
  },
  {
   "cell_type": "markdown",
   "metadata": {},
   "source": [
    "# Single writer, multiple reader (SWMR) "
   ]
  },
  {
   "cell_type": "code",
   "execution_count": 1,
   "metadata": {},
   "outputs": [
    {
     "name": "stdout",
     "output_type": "stream",
     "text": [
      "0 of 10\n",
      "1 of 10\n",
      "2 of 10\n",
      "3 of 10\n",
      "4 of 10\n",
      "5 of 10\n",
      "6 of 10\n",
      "7 of 10\n",
      "8 of 10\n",
      "9 of 10\n"
     ]
    }
   ],
   "source": [
    "from __future__ import print_function\n",
    "\n",
    "import numpy as np\n",
    "import h5py\n",
    "\n",
    "SIZE = 10\n",
    "\n",
    "def mandelbrot(a):\n",
    "    \"\"\"very slow mandelbrot calculation\"\"\"\n",
    "    z = 0\n",
    "    for n in range(1, 200):\n",
    "        z = z**2 + a\n",
    "        if abs(z) > 2:\n",
    "            return n\n",
    "    return 0\n",
    " \n",
    "\n",
    "X = np.linspace(-2, .5, SIZE)\n",
    "Y = np.linspace(-1,  1, SIZE)\n",
    "Z = np.zeros((SIZE,))\n",
    "\n",
    "f = h5py.File('mandel.h5', 'w', libver='latest')\n",
    "f.swmr_mode = True\n",
    "dset = f.create_dataset('/m', shape=(0, SIZE), dtype='i', maxshape=(SIZE, SIZE))\n",
    "dset.attrs['size'] = SIZE\n",
    "\n",
    "for row, y in enumerate(Y):\n",
    "    print (row, \"of\", len(Y))\n",
    "    dset.resize(row+1, axis=0)\n",
    "    for col, x in enumerate(X):\n",
    "        Z[col] = mandelbrot(x + 1j * y)\n",
    "    dset[row:] = Z\n",
    "    f.flush()\n",
    "\n",
    "f.close()"
   ]
  },
  {
   "cell_type": "code",
   "execution_count": 2,
   "metadata": {
    "collapsed": true
   },
   "outputs": [],
   "source": [
    "%matplotlib inline\n",
    "import matplotlib.pyplot as plt"
   ]
  },
  {
   "cell_type": "code",
   "execution_count": 5,
   "metadata": {},
   "outputs": [
    {
     "name": "stdout",
     "output_type": "stream",
     "text": [
      "222 1000\n"
     ]
    },
    {
     "data": {
      "image/png": "[encoded data removed]",
      "text/plain": [
       "<matplotlib.figure.Figure at 0x7f789b67ee50>"
      ]
     },
     "metadata": {},
     "output_type": "display_data"
    }
   ],
   "source": [
    "with h5py.File('mandel.h5', 'r', libver='latest', swmr=True) as f:\n",
    "    dset = f['/m']\n",
    "    size = dset.attrs['size']\n",
    "    rows = len(dset)\n",
    "    plt.figure(figsize=(10, 10))\n",
    "    print (rows, size)                   \n",
    "    plt.imshow(dset[:])"
   ]
  },
  {
   "cell_type": "markdown",
   "metadata": {
    "collapsed": true
   },
   "source": [
    "# Low level API"
   ]
  },
  {
   "cell_type": "markdown",
   "metadata": {
    "collapsed": true
   },
   "source": [
    "h5py exposes the HDF5 low level API, which can be mixed with the high level interface."
   ]
  },
  {
   "cell_type": "code",
   "execution_count": 1,
   "metadata": {
    "collapsed": true
   },
   "outputs": [],
   "source": [
    "import h5py\n",
    "import numpy as np"
   ]
  },
  {
   "cell_type": "code",
   "execution_count": 2,
   "metadata": {},
   "outputs": [
    {
     "data": {
      "text/plain": [
       "array([ 0,  1,  2,  3,  4,  5,  6,  7,  8,  9, 10, 11, 12, 13, 14, 15, 16,\n",
       "       17, 18, 19, 20, 21, 22, 23, 24, 25, 26, 27, 28, 29, 30, 31, 32, 33,\n",
       "       34, 35, 36, 37, 38, 39, 40, 41, 42, 43, 44, 45, 46, 47, 48, 49, 50,\n",
       "       51, 52, 53, 54, 55, 56, 57, 58, 59, 60, 61, 62, 63, 64, 65, 66, 67,\n",
       "       68, 69, 70, 71, 72, 73, 74, 75, 76, 77, 78, 79, 80, 81, 82, 83, 84,\n",
       "       85, 86, 87, 88, 89, 90, 91, 92, 93, 94, 95, 96, 97, 98, 99], dtype=int8)"
      ]
     },
     "execution_count": 2,
     "metadata": {},
     "output_type": "execute_result"
    }
   ],
   "source": [
    "f = h5py.File('dataset.h5', 'w')\n",
    "f['/data'] = np.arange(100, dtype=np.int8)\n",
    "f['/data'][:]"
   ]
  },
  {
   "cell_type": "markdown",
   "metadata": {},
   "source": [
    "### H5Dget_storage_size() : get size of dataset on disk\n",
    "```\n",
    "H5Dget_storage_size\n",
    "hsize_t H5Dget_storage_size( hid_t dataset_id )\n",
    "```\n",
    "HDF5 API reference: https://support.hdfgroup.org/HDF5/doc/RM/RM_H5D.html#Dataset-GetStorageSize\n",
    "\n",
    "h5py API docs: http://api.h5py.org/h5d.html"
   ]
  },
  {
   "cell_type": "code",
   "execution_count": 3,
   "metadata": {},
   "outputs": [
    {
     "data": {
      "text/plain": [
       "<HDF5 dataset \"data\": shape (100,), type \"|i1\">"
      ]
     },
     "execution_count": 3,
     "metadata": {},
     "output_type": "execute_result"
    }
   ],
   "source": [
    "dset = f['data']\n",
    "dset"
   ]
  },
  {
   "cell_type": "code",
   "execution_count": 4,
   "metadata": {},
   "outputs": [
    {
     "data": {
      "text/plain": [
       "<h5py.h5d.DatasetID at 0x7fb790ebd098>"
      ]
     },
     "execution_count": 4,
     "metadata": {},
     "output_type": "execute_result"
    }
   ],
   "source": [
    "dset.id"
   ]
  },
  {
   "cell_type": "markdown",
   "metadata": {},
   "source": [
    "The `DatasetID` class is a proxy object that wrap the H5D API in the Cython module `h5d.pyx`:\n"
   ]
  },
  {
   "cell_type": "code",
   "execution_count": 5,
   "metadata": {},
   "outputs": [
    {
     "data": {
      "text/plain": [
       "100"
      ]
     },
     "execution_count": 5,
     "metadata": {},
     "output_type": "execute_result"
    }
   ],
   "source": [
    "dset.id.get_storage_size()"
   ]
  },
  {
   "cell_type": "code",
   "execution_count": 6,
   "metadata": {
    "collapsed": true
   },
   "outputs": [],
   "source": [
    "f.close()"
   ]
  },
  {
   "cell_type": "markdown",
   "metadata": {},
   "source": [
    "# H5Lcreate_external\n",
    "\n",
    "Create an external link in a HDF5 file.\n",
    "\n",
    "link `link.h5:/links/data` to `dataset.h5:/data`"
   ]
  },
  {
   "cell_type": "code",
   "execution_count": 7,
   "metadata": {
    "collapsed": true
   },
   "outputs": [],
   "source": [
    "f2 = h5py.File('link.h5', 'w')"
   ]
  },
  {
   "cell_type": "code",
   "execution_count": 8,
   "metadata": {
    "collapsed": true
   },
   "outputs": [],
   "source": [
    "g = f2.create_group('links')"
   ]
  },
  {
   "cell_type": "code",
   "execution_count": 9,
   "metadata": {},
   "outputs": [
    {
     "data": {
      "text/plain": [
       "<h5py.h5g.GroupID at 0x7fb790ebdd68>"
      ]
     },
     "execution_count": 9,
     "metadata": {},
     "output_type": "execute_result"
    }
   ],
   "source": [
    "group_id = g.id\n",
    "group_id"
   ]
  },
  {
   "cell_type": "markdown",
   "metadata": {},
   "source": [
    "Or using the low level API:\n",
    "\n",
    "```\n",
    "H5GOpen\n",
    "hid_t H5Gopen( hid_t loc_id, const char *name )\n",
    "```\n",
    "\n",
    "https://support.hdfgroup.org/HDF5/doc/RM/RM_H5G.html#Group-Open\n",
    "\n",
    "http://api.h5py.org/h5g.html"
   ]
  },
  {
   "cell_type": "code",
   "execution_count": 10,
   "metadata": {},
   "outputs": [
    {
     "data": {
      "text/plain": [
       "<h5py.h5g.GroupID at 0x7fb790ec5138>"
      ]
     },
     "execution_count": 10,
     "metadata": {},
     "output_type": "execute_result"
    }
   ],
   "source": [
    "h5py.h5g.open(f2.id, b'links')"
   ]
  },
  {
   "cell_type": "markdown",
   "metadata": {},
   "source": [
    "note the bytestrings in the call to the low level API function."
   ]
  },
  {
   "cell_type": "markdown",
   "metadata": {},
   "source": [
    "Low level API:\n",
    "\n",
    "```\n",
    "H5Lcreate_external\n",
    "\n",
    "herr_t H5Lcreate_external( const char *target_file_name, const char *target_obj_name, hid_t link_loc_id, const char *link_name, hid_t lcpl_id, hid_t lapl_id )\n",
    "```\n",
    "\n",
    "https://support.hdfgroup.org/HDF5/doc/RM/RM_H5L.html#Link-CreateExternal\n",
    "\n",
    "http://api.h5py.org/h5l.html#module-h5py.h5l\n",
    "\n"
   ]
  },
  {
   "cell_type": "code",
   "execution_count": 11,
   "metadata": {
    "collapsed": true
   },
   "outputs": [],
   "source": [
    "group_id.links.create_external(b'data', b'dataset.h5', b'/data')"
   ]
  },
  {
   "cell_type": "code",
   "execution_count": 12,
   "metadata": {},
   "outputs": [
    {
     "data": {
      "text/plain": [
       "(<HDF5 group \"/links\" (1 members)>, ['data'])"
      ]
     },
     "execution_count": 12,
     "metadata": {},
     "output_type": "execute_result"
    }
   ],
   "source": [
    "g, list(g)"
   ]
  },
  {
   "cell_type": "code",
   "execution_count": 13,
   "metadata": {},
   "outputs": [
    {
     "data": {
      "text/plain": [
       "<HDF5 dataset \"data\": shape (100,), type \"|i1\">"
      ]
     },
     "execution_count": 13,
     "metadata": {},
     "output_type": "execute_result"
    }
   ],
   "source": [
    "f2['/links/data']"
   ]
  },
  {
   "cell_type": "code",
   "execution_count": 14,
   "metadata": {},
   "outputs": [
    {
     "data": {
      "text/plain": [
       "array([ 0,  1,  2,  3,  4,  5,  6,  7,  8,  9, 10, 11, 12, 13, 14, 15, 16,\n",
       "       17, 18, 19, 20, 21, 22, 23, 24, 25, 26, 27, 28, 29, 30, 31, 32, 33,\n",
       "       34, 35, 36, 37, 38, 39, 40, 41, 42, 43, 44, 45, 46, 47, 48, 49, 50,\n",
       "       51, 52, 53, 54, 55, 56, 57, 58, 59, 60, 61, 62, 63, 64, 65, 66, 67,\n",
       "       68, 69, 70, 71, 72, 73, 74, 75, 76, 77, 78, 79, 80, 81, 82, 83, 84,\n",
       "       85, 86, 87, 88, 89, 90, 91, 92, 93, 94, 95, 96, 97, 98, 99], dtype=int8)"
      ]
     },
     "execution_count": 14,
     "metadata": {},
     "output_type": "execute_result"
    }
   ],
   "source": [
    "f2['/links/data'][:]"
   ]
  },
  {
   "cell_type": "code",
   "execution_count": 15,
   "metadata": {
    "collapsed": true
   },
   "outputs": [],
   "source": [
    "!rm dataset.h5"
   ]
  },
  {
   "cell_type": "code",
   "execution_count": 16,
   "metadata": {},
   "outputs": [
    {
     "ename": "KeyError",
     "evalue": "\"Unable to open object (Unable to open external file, external link file name = 'dataset.h5', temp_file_name = 'dataset.h5')\"",
     "output_type": "error",
     "traceback": [
      "\u001b[0;31m---------------------------------------------------------------------------\u001b[0m",
      "\u001b[0;31mKeyError\u001b[0m                                  Traceback (most recent call last)",
      "\u001b[0;32m<ipython-input-16-44b5451dcd77>\u001b[0m in \u001b[0;36m<module>\u001b[0;34m()\u001b[0m\n\u001b[0;32m----> 1\u001b[0;31m \u001b[0mf2\u001b[0m\u001b[0;34m[\u001b[0m\u001b[0;34m'/links/data'\u001b[0m\u001b[0;34m]\u001b[0m\u001b[0;34m\u001b[0m\u001b[0m\n\u001b[0m",
      "\u001b[0;32mh5py/_objects.pyx\u001b[0m in \u001b[0;36mh5py._objects.with_phil.wrapper (/feedstock_root/build_artefacts/h5py_1496411133713/work/h5py-2.7.0/h5py/_objects.c:2846)\u001b[0;34m()\u001b[0m\n",
      "\u001b[0;32mh5py/_objects.pyx\u001b[0m in \u001b[0;36mh5py._objects.with_phil.wrapper (/feedstock_root/build_artefacts/h5py_1496411133713/work/h5py-2.7.0/h5py/_objects.c:2804)\u001b[0;34m()\u001b[0m\n",
      "\u001b[0;32m/home/vagrant/miniconda3/lib/python3.6/site-packages/h5py/_hl/group.py\u001b[0m in \u001b[0;36m__getitem__\u001b[0;34m(self, name)\u001b[0m\n\u001b[1;32m    167\u001b[0m                 \u001b[0;32mraise\u001b[0m \u001b[0mValueError\u001b[0m\u001b[0;34m(\u001b[0m\u001b[0;34m\"Invalid HDF5 object reference\"\u001b[0m\u001b[0;34m)\u001b[0m\u001b[0;34m\u001b[0m\u001b[0m\n\u001b[1;32m    168\u001b[0m         \u001b[0;32melse\u001b[0m\u001b[0;34m:\u001b[0m\u001b[0;34m\u001b[0m\u001b[0m\n\u001b[0;32m--> 169\u001b[0;31m             \u001b[0moid\u001b[0m \u001b[0;34m=\u001b[0m \u001b[0mh5o\u001b[0m\u001b[0;34m.\u001b[0m\u001b[0mopen\u001b[0m\u001b[0;34m(\u001b[0m\u001b[0mself\u001b[0m\u001b[0;34m.\u001b[0m\u001b[0mid\u001b[0m\u001b[0;34m,\u001b[0m \u001b[0mself\u001b[0m\u001b[0;34m.\u001b[0m\u001b[0m_e\u001b[0m\u001b[0;34m(\u001b[0m\u001b[0mname\u001b[0m\u001b[0;34m)\u001b[0m\u001b[0;34m,\u001b[0m \u001b[0mlapl\u001b[0m\u001b[0;34m=\u001b[0m\u001b[0mself\u001b[0m\u001b[0;34m.\u001b[0m\u001b[0m_lapl\u001b[0m\u001b[0;34m)\u001b[0m\u001b[0;34m\u001b[0m\u001b[0m\n\u001b[0m\u001b[1;32m    170\u001b[0m \u001b[0;34m\u001b[0m\u001b[0m\n\u001b[1;32m    171\u001b[0m         \u001b[0motype\u001b[0m \u001b[0;34m=\u001b[0m \u001b[0mh5i\u001b[0m\u001b[0;34m.\u001b[0m\u001b[0mget_type\u001b[0m\u001b[0;34m(\u001b[0m\u001b[0moid\u001b[0m\u001b[0;34m)\u001b[0m\u001b[0;34m\u001b[0m\u001b[0m\n",
      "\u001b[0;32mh5py/_objects.pyx\u001b[0m in \u001b[0;36mh5py._objects.with_phil.wrapper (/feedstock_root/build_artefacts/h5py_1496411133713/work/h5py-2.7.0/h5py/_objects.c:2846)\u001b[0;34m()\u001b[0m\n",
      "\u001b[0;32mh5py/_objects.pyx\u001b[0m in \u001b[0;36mh5py._objects.with_phil.wrapper (/feedstock_root/build_artefacts/h5py_1496411133713/work/h5py-2.7.0/h5py/_objects.c:2804)\u001b[0;34m()\u001b[0m\n",
      "\u001b[0;32mh5py/h5o.pyx\u001b[0m in \u001b[0;36mh5py.h5o.open (/feedstock_root/build_artefacts/h5py_1496411133713/work/h5py-2.7.0/h5py/h5o.c:3740)\u001b[0;34m()\u001b[0m\n",
      "\u001b[0;31mKeyError\u001b[0m: \"Unable to open object (Unable to open external file, external link file name = 'dataset.h5', temp_file_name = 'dataset.h5')\""
     ]
    }
   ],
   "source": [
    "f2['/links/data']"
   ]
  },
  {
   "cell_type": "code",
   "execution_count": 17,
   "metadata": {
    "collapsed": true
   },
   "outputs": [],
   "source": [
    "f2.close()"
   ]
  },
  {
   "cell_type": "code",
   "execution_count": 18,
   "metadata": {
    "scrolled": true
   },
   "outputs": [
    {
     "name": "stdout",
     "output_type": "stream",
     "text": [
      "HDF5 \"link.h5\" {\r\n",
      "GROUP \"/\" {\r\n",
      "   GROUP \"links\" {\r\n",
      "      EXTERNAL_LINK \"data\" {\r\n",
      "         TARGETFILE \"dataset.h5\"\r\n",
      "         TARGETPATH \"/data\"\r\n",
      "      }\r\n",
      "   }\r\n",
      "}\r\n",
      "}\r\n"
     ]
    }
   ],
   "source": [
    "!h5dump link.h5"
   ]
  },
  {
   "cell_type": "code",
   "execution_count": 19,
   "metadata": {},
   "outputs": [
    {
     "name": "stdout",
     "output_type": "stream",
     "text": [
      "h5dump error: unable to open file \"dataset.h5\"\r\n"
     ]
    }
   ],
   "source": [
    "!h5dump dataset.h5"
   ]
  },
  {
   "cell_type": "code",
   "execution_count": null,
   "metadata": {
    "collapsed": true
   },
   "outputs": [],
   "source": []
  }
 ],
 "metadata": {
  "kernelspec": {
   "display_name": "Python [conda root]",
   "language": "python",
   "name": "conda-root-py"
  },
  "language_info": {
   "codemirror_mode": {
    "name": "ipython",
    "version": 3
   },
   "file_extension": ".py",
   "mimetype": "text/x-python",
   "name": "python",
   "nbconvert_exporter": "python",
   "pygments_lexer": "ipython3",
   "version": "3.6.0"
  }
 },
 "nbformat": 4,
 "nbformat_minor": 2
}
