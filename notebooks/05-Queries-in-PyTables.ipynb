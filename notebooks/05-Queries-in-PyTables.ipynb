{
 "cells": [
  {
   "cell_type": "markdown",
   "metadata": {},
   "source": [
    "# 5 Queries in PyTables"
   ]
  },
  {
   "cell_type": "markdown",
   "metadata": {},
   "source": [
    "> Objectives:\n",
    "> * How to query HDF5 files without loading them in-memory\n",
    "> * How to query normalized and denormalized tables"
   ]
  },
  {
   "cell_type": "code",
   "execution_count": 22,
   "metadata": {
    "collapsed": true
   },
   "outputs": [],
   "source": [
    "import os\n",
    "import numpy as np\n",
    "import pandas as pd\n",
    "import tables"
   ]
  },
  {
   "cell_type": "code",
   "execution_count": 23,
   "metadata": {
    "collapsed": true
   },
   "outputs": [],
   "source": [
    "import os\n",
    "import shutil\n",
    "data_dir = \"queries\"\n",
    "if os.path.exists(data_dir):\n",
    "    shutil.rmtree(data_dir)\n",
    "os.mkdir(data_dir)"
   ]
  },
  {
   "cell_type": "code",
   "execution_count": 24,
   "metadata": {},
   "outputs": [
    {
     "name": "stdout",
     "output_type": "stream",
     "text": [
      "total 187M\n",
      "-rw-r--r-- 1 tomkooij 197613 5.5M Jun 26 09:54 blosc-zstd-5-shuffle-denorm.h5\n",
      "-rw-r--r-- 1 tomkooij 197613 4.3M Jun 26 09:50 blosc-zstd-5-shuffle.h5\n",
      "-rw-r--r-- 1 tomkooij 197613 156M Jun 26 09:53 no-compression-denorm.h5\n",
      "-rw-r--r-- 1 tomkooij 197613  17M Jun 26 09:50 no-compression.h5\n",
      "-rw-r--r-- 1 tomkooij 197613 4.3M Jun 26 09:48 zlib-5-shuffle.h5\n"
     ]
    }
   ],
   "source": [
    "!ls -lh compression"
   ]
  },
  {
   "cell_type": "markdown",
   "metadata": {},
   "source": [
    "We need to files created in the last notebook:\n",
    "\n",
    "* `compression/no-compression-denorm.h5`\n",
    "* `compression/blosc-zstd-5-shuffle.h5`\n",
    "* `compression/blosc-zstd-5-shuffle-denorm.h5`"
   ]
  },
  {
   "cell_type": "code",
   "execution_count": 80,
   "metadata": {},
   "outputs": [
    {
     "ename": "AssertionError",
     "evalue": "Missing datafile compression/blosc-zstd-5-shuffle-denorm.h5: Rerun 04-Using-Compression Notebook",
     "output_type": "error",
     "traceback": [
      "\u001b[1;31m---------------------------------------------------------------------------\u001b[0m",
      "\u001b[1;31mAssertionError\u001b[0m                            Traceback (most recent call last)",
      "\u001b[1;32m<ipython-input-80-6a911c83f270>\u001b[0m in \u001b[0;36m<module>\u001b[1;34m()\u001b[0m\n\u001b[0;32m      3\u001b[0m            \"compression/blosc-zstd-5-shuffle-denorm.h5\"]:\n\u001b[0;32m      4\u001b[0m     \u001b[1;32mif\u001b[0m \u001b[1;32mnot\u001b[0m \u001b[0mos\u001b[0m\u001b[1;33m.\u001b[0m\u001b[0mpath\u001b[0m\u001b[1;33m.\u001b[0m\u001b[0mexists\u001b[0m\u001b[1;33m(\u001b[0m\u001b[0mfn\u001b[0m\u001b[1;33m)\u001b[0m\u001b[1;33m:\u001b[0m\u001b[1;33m\u001b[0m\u001b[0m\n\u001b[1;32m----> 5\u001b[1;33m         \u001b[1;32massert\u001b[0m \u001b[1;32mFalse\u001b[0m\u001b[1;33m,\u001b[0m \u001b[1;34m\"Missing datafile %s: Rerun 04-Using-Compression Notebook\"\u001b[0m \u001b[1;33m%\u001b[0m \u001b[0mfn\u001b[0m\u001b[1;33m\u001b[0m\u001b[0m\n\u001b[0m",
      "\u001b[1;31mAssertionError\u001b[0m: Missing datafile compression/blosc-zstd-5-shuffle-denorm.h5: Rerun 04-Using-Compression Notebook"
     ]
    }
   ],
   "source": [
    "for fn in [\"compression/no-compression-denorm.h5\",\n",
    "           \"compression/blosc-zstd-5-shuffle.h5\", \n",
    "           \"compression/blosc-zstd-5-shuffle-denorm.h5\"]:\n",
    "    if not os.path.exists(fn):\n",
    "        assert False, \"Missing datafile %s: Rerun 04-Using-Compression Notebook\" % fn"
   ]
  },
  {
   "cell_type": "markdown",
   "metadata": {},
   "source": [
    "## Querying in PyTables\n",
    "\n",
    "Searching in tables is one of the most common and time consuming operations that a typical user faces in the process of mining through his data. Being able to perform queries as fast as possible is a key concept in data usage applications.\n"
   ]
  },
  {
   "cell_type": "code",
   "execution_count": 26,
   "metadata": {},
   "outputs": [],
   "source": [
    "# Movieslens-1M (denormalized) not compressed:\n",
    "fn = \"compression/no-compression-denorm.h5\"\n",
    "h5file = tables.open_file(fn)\n",
    "table = h5file.root.lens"
   ]
  },
  {
   "cell_type": "markdown",
   "metadata": {},
   "source": [
    "### read table and query in numpy"
   ]
  },
  {
   "cell_type": "markdown",
   "metadata": {},
   "source": [
    "Naive solution: read the table into memory and select the rows using `numpy`:"
   ]
  },
  {
   "cell_type": "code",
   "execution_count": 69,
   "metadata": {
    "collapsed": true
   },
   "outputs": [],
   "source": [
    "x = table.read() "
   ]
  },
  {
   "cell_type": "code",
   "execution_count": 70,
   "metadata": {},
   "outputs": [
    {
     "data": {
      "text/plain": [
       "575281"
      ]
     },
     "execution_count": 70,
     "metadata": {},
     "output_type": "execute_result"
    }
   ],
   "source": [
    "sum(1 for x in x[x['rating'] >= 4])"
   ]
  },
  {
   "cell_type": "markdown",
   "metadata": {},
   "source": [
    "Let's benchmark:"
   ]
  },
  {
   "cell_type": "code",
   "execution_count": 68,
   "metadata": {},
   "outputs": [
    {
     "name": "stdout",
     "output_type": "stream",
     "text": [
      "341 ms ± 10.1 ms per loop (mean ± std. dev. of 7 runs, 1 loop each)\n"
     ]
    }
   ],
   "source": [
    "%%timeit\n",
    "x = table.read() \n",
    "sum(1 for x in x[x['rating'] >= 4])"
   ]
  },
  {
   "cell_type": "markdown",
   "metadata": {},
   "source": [
    "This only works for tables that fit into memory (and we are abuseing OS filecache) but, it provides a benchmark for our queries:"
   ]
  },
  {
   "cell_type": "markdown",
   "metadata": {},
   "source": [
    "###  table.iterrows()\n",
    "\n",
    "`table.iterrows()` returns an iterator that iterates over ALL rows, using this iterator, we can avoid loading the table in memory."
   ]
  },
  {
   "cell_type": "code",
   "execution_count": 48,
   "metadata": {},
   "outputs": [
    {
     "data": {
      "text/plain": [
       "575281"
      ]
     },
     "execution_count": 48,
     "metadata": {},
     "output_type": "execute_result"
    }
   ],
   "source": [
    "sum(1 for x in table.iterrows() if x['rating'] >= 4)"
   ]
  },
  {
   "cell_type": "code",
   "execution_count": 49,
   "metadata": {},
   "outputs": [
    {
     "name": "stdout",
     "output_type": "stream",
     "text": [
      "297 ms ± 19.5 ms per loop (mean ± std. dev. of 7 runs, 1 loop each)\n"
     ]
    }
   ],
   "source": [
    "%%timeit\n",
    "sum(1 for x in table.iterrows() if x['rating'] >= 4)"
   ]
  },
  {
   "cell_type": "markdown",
   "metadata": {},
   "source": [
    "Better, but we can do better still:"
   ]
  },
  {
   "cell_type": "markdown",
   "metadata": {},
   "source": [
    "### table.where()\n",
    "\n",
    "`table.where()` is an iterator that performs an in-kernel query:\n",
    "\n",
    "It returns a row iterator, that iterates over the selected rows:"
   ]
  },
  {
   "cell_type": "code",
   "execution_count": 50,
   "metadata": {},
   "outputs": [
    {
     "data": {
      "text/plain": [
       "tables.tableextension.Row"
      ]
     },
     "execution_count": 50,
     "metadata": {},
     "output_type": "execute_result"
    }
   ],
   "source": [
    "type(table.where('rating >= 4'))"
   ]
  },
  {
   "cell_type": "code",
   "execution_count": 51,
   "metadata": {},
   "outputs": [
    {
     "name": "stdout",
     "output_type": "stream",
     "text": [
      "210 ms ± 25.8 ms per loop (mean ± std. dev. of 7 runs, 1 loop each)\n"
     ]
    }
   ],
   "source": [
    "%%timeit\n",
    "ts = sum(1 for row in table.where(\"rating >= 4\"))"
   ]
  },
  {
   "cell_type": "markdown",
   "metadata": {},
   "source": [
    "The difference between `table.where()` and `table.iterrows()` is that `where()` performs an **in-kernel** query.\n",
    "\n",
    "### read_where()"
   ]
  },
  {
   "cell_type": "markdown",
   "metadata": {},
   "source": [
    "`table.read_where()` reads all table rows that match a query:"
   ]
  },
  {
   "cell_type": "code",
   "execution_count": 39,
   "metadata": {},
   "outputs": [
    {
     "data": {
      "text/plain": [
       "array([ (   1, 5,  978824268, b'Toy Story (1995)', b\"Animation|Children's|Comedy\"),\n",
       "       (   6, 4,  978237008, b'Toy Story (1995)', b\"Animation|Children's|Comedy\"),\n",
       "       (   8, 4,  978233496, b'Toy Story (1995)', b\"Animation|Children's|Comedy\"),\n",
       "       ...,\n",
       "       (5812, 4,  992072099, b'Contender, The (2000)', b'Drama|Thriller'),\n",
       "       (5837, 4, 1011902656, b'Contender, The (2000)', b'Drama|Thriller'),\n",
       "       (5998, 4, 1001781044, b'Contender, The (2000)', b'Drama|Thriller')],\n",
       "      dtype=[('user_id', '<i4'), ('rating', 'i1'), ('unix_timestamp', '<i8'), ('title', 'S100'), ('genres', 'S50')])"
      ]
     },
     "execution_count": 39,
     "metadata": {},
     "output_type": "execute_result"
    }
   ],
   "source": [
    "x = table.read_where(\"rating >= 4\")\n",
    "x"
   ]
  },
  {
   "cell_type": "code",
   "execution_count": 40,
   "metadata": {},
   "outputs": [
    {
     "data": {
      "text/plain": [
       "575281"
      ]
     },
     "execution_count": 40,
     "metadata": {},
     "output_type": "execute_result"
    }
   ],
   "source": [
    "len(x)"
   ]
  },
  {
   "cell_type": "code",
   "execution_count": 41,
   "metadata": {},
   "outputs": [
    {
     "name": "stdout",
     "output_type": "stream",
     "text": [
      "1.5 s ± 49.3 ms per loop (mean ± std. dev. of 7 runs, 1 loop each)\n"
     ]
    }
   ],
   "source": [
    "%%timeit\n",
    "x = table.read_where(\"rating >= 4\")\n",
    "sum(1 for x in x)"
   ]
  },
  {
   "cell_type": "markdown",
   "metadata": {},
   "source": [
    "The poor performance is due to read_where(), which is much slower (5x) than the `numpy` benchmark."
   ]
  },
  {
   "cell_type": "code",
   "execution_count": 53,
   "metadata": {},
   "outputs": [
    {
     "name": "stdout",
     "output_type": "stream",
     "text": [
      "1.42 s ± 31.8 ms per loop (mean ± std. dev. of 7 runs, 1 loop each)\n"
     ]
    }
   ],
   "source": [
    "%timeit x = table.read_where(\"rating >= 4\")"
   ]
  },
  {
   "cell_type": "markdown",
   "metadata": {},
   "source": [
    "## Normalized vs Denormalized tables\n",
    "\n",
    "Let's compare a \"real life\" query:\n",
    "\n",
    "Query the ratings for the movie `Tom and Huck (1995)`:\n",
    "\n",
    "### Denormalized"
   ]
  },
  {
   "cell_type": "code",
   "execution_count": 54,
   "metadata": {
    "collapsed": true
   },
   "outputs": [],
   "source": [
    "h5denorm = \"compression/blosc-zstd-5-shuffle-denorm.h5\"\n",
    "h5file = tables.open_file(h5denorm)\n",
    "h5lens = h5file.root.lens"
   ]
  },
  {
   "cell_type": "code",
   "execution_count": 55,
   "metadata": {
    "scrolled": true
   },
   "outputs": [
    {
     "data": {
      "text/plain": [
       "/lens (Table(1000209,), shuffle, blosc:zstd(5)) ''\n",
       "  description := {\n",
       "  \"user_id\": Int32Col(shape=(), dflt=0, pos=0),\n",
       "  \"rating\": Int8Col(shape=(), dflt=0, pos=1),\n",
       "  \"unix_timestamp\": Int64Col(shape=(), dflt=0, pos=2),\n",
       "  \"title\": StringCol(itemsize=100, shape=(), dflt=b'', pos=3),\n",
       "  \"genres\": StringCol(itemsize=50, shape=(), dflt=b'', pos=4)}\n",
       "  byteorder := 'little'\n",
       "  chunkshape := (402,)"
      ]
     },
     "execution_count": 55,
     "metadata": {},
     "output_type": "execute_result"
    }
   ],
   "source": [
    "h5lens"
   ]
  },
  {
   "cell_type": "code",
   "execution_count": 56,
   "metadata": {},
   "outputs": [
    {
     "name": "stdout",
     "output_type": "stream",
     "text": [
      "Wall time: 2.34 s\n"
     ]
    }
   ],
   "source": [
    "%%time\n",
    "ratings = [0] * 6\n",
    "for rt in range(0,6):\n",
    "    ratings[rt] = sum(1 for r in h5lens.where(\"(title == b'Tom and Huck (1995)') & (rating == rt)\"))"
   ]
  },
  {
   "cell_type": "code",
   "execution_count": 57,
   "metadata": {},
   "outputs": [
    {
     "data": {
      "text/plain": [
       "[0, 4, 15, 28, 18, 3]"
      ]
     },
     "execution_count": 57,
     "metadata": {},
     "output_type": "execute_result"
    }
   ],
   "source": [
    "ratings"
   ]
  },
  {
   "cell_type": "code",
   "execution_count": 58,
   "metadata": {
    "collapsed": true
   },
   "outputs": [],
   "source": [
    "h5file.close()"
   ]
  },
  {
   "cell_type": "markdown",
   "metadata": {},
   "source": [
    "Querying denormalized tables is easy as pie.  Let's see how to manage normalized ones."
   ]
  },
  {
   "cell_type": "markdown",
   "metadata": {},
   "source": [
    "### Normalized tables"
   ]
  },
  {
   "cell_type": "code",
   "execution_count": 72,
   "metadata": {
    "collapsed": true
   },
   "outputs": [],
   "source": [
    "h5norm = \"compression/blosc-zstd-5-shuffle.h5\"\n",
    "h5file = tables.open_file(h5norm)\n",
    "h5ratings = h5file.root.ratings\n",
    "h5movies = h5file.root.movies"
   ]
  },
  {
   "cell_type": "code",
   "execution_count": 73,
   "metadata": {},
   "outputs": [
    {
     "data": {
      "text/plain": [
       "/ratings (Table(1000209,), shuffle, blosc:zstd(5)) ''\n",
       "  description := {\n",
       "  \"user_id\": Int32Col(shape=(), dflt=0, pos=0),\n",
       "  \"movie_id\": Int32Col(shape=(), dflt=0, pos=1),\n",
       "  \"rating\": Int8Col(shape=(), dflt=0, pos=2),\n",
       "  \"unix_timestamp\": Int64Col(shape=(), dflt=0, pos=3)}\n",
       "  byteorder := 'little'\n",
       "  chunkshape := (7710,)"
      ]
     },
     "execution_count": 73,
     "metadata": {},
     "output_type": "execute_result"
    }
   ],
   "source": [
    "h5ratings"
   ]
  },
  {
   "cell_type": "code",
   "execution_count": 74,
   "metadata": {},
   "outputs": [
    {
     "data": {
      "text/plain": [
       "/movies (Table(3883,), shuffle, blosc:zstd(5)) ''\n",
       "  description := {\n",
       "  \"movie_id\": Int32Col(shape=(), dflt=0, pos=0),\n",
       "  \"title\": StringCol(itemsize=100, shape=(), dflt=b'', pos=1),\n",
       "  \"genres\": StringCol(itemsize=50, shape=(), dflt=b'', pos=2)}\n",
       "  byteorder := 'little'\n",
       "  chunkshape := (425,)"
      ]
     },
     "execution_count": 74,
     "metadata": {},
     "output_type": "execute_result"
    }
   ],
   "source": [
    "h5movies"
   ]
  },
  {
   "cell_type": "code",
   "execution_count": 77,
   "metadata": {},
   "outputs": [
    {
     "name": "stdout",
     "output_type": "stream",
     "text": [
      "Wall time: 420 ms\n"
     ]
    }
   ],
   "source": [
    "%%time\n",
    "ratings = [0] * 6\n",
    "for rt in range(0,6):\n",
    "    th_movie_id = [r['movie_id'] for r in h5movies.where(\"(title == b'Tom and Huck (1995)')\")][0]\n",
    "    ratings[rt] = sum(1 for r in h5ratings.where(\"(movie_id == th_movie_id) & (rating == rt)\"))"
   ]
  },
  {
   "cell_type": "code",
   "execution_count": 78,
   "metadata": {},
   "outputs": [
    {
     "data": {
      "text/plain": [
       "[0, 4, 15, 28, 18, 3]"
      ]
     },
     "execution_count": 78,
     "metadata": {},
     "output_type": "execute_result"
    }
   ],
   "source": [
    "ratings"
   ]
  },
  {
   "cell_type": "code",
   "execution_count": 79,
   "metadata": {
    "collapsed": true
   },
   "outputs": [],
   "source": [
    "h5file.close()"
   ]
  },
  {
   "cell_type": "code",
   "execution_count": null,
   "metadata": {
    "collapsed": true
   },
   "outputs": [],
   "source": []
  }
 ],
 "metadata": {
  "kernelspec": {
   "display_name": "Python [conda env:hdf5]",
   "language": "python",
   "name": "conda-env-hdf5-py"
  },
  "language_info": {
   "codemirror_mode": {
    "name": "ipython",
    "version": 3
   },
   "file_extension": ".py",
   "mimetype": "text/x-python",
   "name": "python",
   "nbconvert_exporter": "python",
   "pygments_lexer": "ipython3",
   "version": "3.6.1"
  }
 },
 "nbformat": 4,
 "nbformat_minor": 2
}
