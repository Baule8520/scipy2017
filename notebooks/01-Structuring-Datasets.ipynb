{
 "cells": [
  {
   "cell_type": "markdown",
   "metadata": {},
   "source": [
    "# 1 Structuring Datasets"
   ]
  },
  {
   "cell_type": "markdown",
   "metadata": {},
   "source": [
    ">Objectives:\n",
    ">\n",
    "> * How to use a hierarchy to structure datasets inside the same file\n",
    "> * Use the hierarchy in h5py and PyTables\n",
    "> * Interactive auto-completion\n",
    "> * How to use attributes in h5py and PyTables"
   ]
  },
  {
   "cell_type": "markdown",
   "metadata": {},
   "source": [
    "## Using the Hierarchy"
   ]
  },
  {
   "cell_type": "markdown",
   "metadata": {},
   "source": [
    "In HDF5, all nodes stem from a root (\"/\").  The nodes can be either `Groups` or `Datasets` (also know as `Leaves` in PyTables).  `Groups` are the equivalent of directories on a filesystem and can container `Datasets` or other `Groups`.  A `Dataset` is a container for data.\n",
    "\n",
    "The hdf5 file that was shown in the introduction has the following layout:\n",
    "```\n",
    "/                        Group\n",
    "/hisparc                 Group\n",
    "/hisparc/cluster_aarhus  Group\n",
    "/hisparc/cluster_aarhus/station_20002 Group\n",
    "/hisparc/cluster_aarhus/station_20002/blobs Dataset {41496/Inf}\n",
    "/hisparc/cluster_aarhus/station_20002/events Dataset {20748/Inf}\n",
    "/hisparc/cluster_amsterdam Group\n",
    "/hisparc/cluster_amsterdam/station_101 Group\n",
    "/hisparc/cluster_amsterdam/station_101/blobs Dataset {96688/Inf}\n",
    "/hisparc/cluster_amsterdam/station_101/events Dataset {24172/Inf}\n",
    "/hisparc/cluster_amsterdam/station_102 Group\n",
    "/hisparc/cluster_amsterdam/station_102/blobs Dataset {89792/Inf}\n",
    "/hisparc/cluster_amsterdam/station_102/config Dataset {1/Inf}\n",
    "/hisparc/cluster_amsterdam/station_102/events Dataset {44895/Inf}\n",
    "/hisparc/cluster_amsterdam/station_104 Group\n",
    "[...]\n",
    "```\n",
    "\n",
    "The HDF5 hierachy resembles POSIX style paths to `Groups` and `Datasets`. \n"
   ]
  },
  {
   "cell_type": "code",
   "execution_count": 1,
   "metadata": {
    "collapsed": true
   },
   "outputs": [],
   "source": [
    "import numpy as np\n",
    "import tables\n",
    "import h5py"
   ]
  },
  {
   "cell_type": "code",
   "execution_count": 2,
   "metadata": {
    "collapsed": true
   },
   "outputs": [],
   "source": [
    "import os\n",
    "import shutil\n",
    "data_dir = \"structuring\"\n",
    "if os.path.exists(data_dir):\n",
    "    shutil.rmtree(data_dir)\n",
    "os.mkdir(data_dir)"
   ]
  },
  {
   "cell_type": "markdown",
   "metadata": {},
   "source": [
    "## PyTables\n",
    "\n",
    "`pytables` provides high level access to the HDF5 library (in python) with a pythonic API: "
   ]
  },
  {
   "cell_type": "code",
   "execution_count": 3,
   "metadata": {
    "collapsed": true
   },
   "outputs": [],
   "source": [
    "import tables"
   ]
  },
  {
   "cell_type": "markdown",
   "metadata": {},
   "source": [
    "Create a HDF5 file:"
   ]
  },
  {
   "cell_type": "code",
   "execution_count": 4,
   "metadata": {
    "collapsed": true
   },
   "outputs": [],
   "source": [
    "FILENAME = os.path.join(data_dir, \"layout.h5\")\n",
    "f = tables.open_file(FILENAME, \"w\")"
   ]
  },
  {
   "cell_type": "markdown",
   "metadata": {},
   "source": [
    "Create a group:"
   ]
  },
  {
   "cell_type": "code",
   "execution_count": 5,
   "metadata": {},
   "outputs": [
    {
     "data": {
      "text/plain": [
       "/a_group (Group) ''\n",
       "  children := []"
      ]
     },
     "execution_count": 5,
     "metadata": {},
     "output_type": "execute_result"
    }
   ],
   "source": [
    "group = f.create_group('/', 'a_group')\n",
    "group"
   ]
  },
  {
   "cell_type": "markdown",
   "metadata": {},
   "source": [
    "Inside this group we can create many datasets:"
   ]
  },
  {
   "cell_type": "code",
   "execution_count": 6,
   "metadata": {
    "collapsed": true
   },
   "outputs": [],
   "source": [
    "f.create_array(group, \"my_array1\", np.arange(10))\n",
    "f.create_array(group, \"my_array2\", np.ones(100).reshape(10, 10));"
   ]
  },
  {
   "cell_type": "markdown",
   "metadata": {},
   "source": [
    "or another group:"
   ]
  },
  {
   "cell_type": "code",
   "execution_count": 7,
   "metadata": {},
   "outputs": [
    {
     "data": {
      "text/plain": [
       "/a_group/another_group (Group) ''\n",
       "  children := []"
      ]
     },
     "execution_count": 7,
     "metadata": {},
     "output_type": "execute_result"
    }
   ],
   "source": [
    "f.create_group('/a_group', 'another_group')"
   ]
  },
  {
   "cell_type": "markdown",
   "metadata": {},
   "source": [
    "Let's look at the structure of the HDF5 file:"
   ]
  },
  {
   "cell_type": "code",
   "execution_count": 8,
   "metadata": {},
   "outputs": [
    {
     "name": "stdout",
     "output_type": "stream",
     "text": [
      "structuring\\layout.h5 (File) ''\n",
      "Last modif.: 'Mon Jun 26 14:46:25 2017'\n",
      "Object Tree: \n",
      "/ (RootGroup) ''\n",
      "/a_group (Group) ''\n",
      "/a_group/my_array1 (Array(10,)) ''\n",
      "/a_group/my_array2 (Array(10, 10)) ''\n",
      "/a_group/another_group (Group) ''\n",
      "\n"
     ]
    }
   ],
   "source": [
    "print(f)"
   ]
  },
  {
   "cell_type": "markdown",
   "metadata": {},
   "source": [
    "With that, you can endow your datasets with any hierachy that would fit better to your needs."
   ]
  },
  {
   "cell_type": "markdown",
   "metadata": {},
   "source": [
    "### Natural naming in PyTables\n",
    "\n",
    "In PyTables, you may access nodes as attributes on a Python object, namely `f.root.a_group.some_data`.  This is known as natural naming."
   ]
  },
  {
   "cell_type": "code",
   "execution_count": 9,
   "metadata": {},
   "outputs": [
    {
     "data": {
      "text/plain": [
       "/a_group/my_array1 (Array(10,)) ''\n",
       "  atom := Int32Atom(shape=(), dflt=0)\n",
       "  maindim := 0\n",
       "  flavor := 'numpy'\n",
       "  byteorder := 'little'\n",
       "  chunkshape := None"
      ]
     },
     "execution_count": 9,
     "metadata": {},
     "output_type": "execute_result"
    }
   ],
   "source": [
    "f.root.a_group.my_array1"
   ]
  },
  {
   "cell_type": "markdown",
   "metadata": {},
   "source": [
    "compare `file.get_node()`:"
   ]
  },
  {
   "cell_type": "code",
   "execution_count": 10,
   "metadata": {},
   "outputs": [
    {
     "data": {
      "text/plain": [
       "/a_group/my_array1 (Array(10,)) ''\n",
       "  atom := Int32Atom(shape=(), dflt=0)\n",
       "  maindim := 0\n",
       "  flavor := 'numpy'\n",
       "  byteorder := 'little'\n",
       "  chunkshape := None"
      ]
     },
     "execution_count": 10,
     "metadata": {},
     "output_type": "execute_result"
    }
   ],
   "source": [
    "f.get_node('/a_group/my_array1')"
   ]
  },
  {
   "cell_type": "markdown",
   "metadata": {},
   "source": [
    "Natural naming supports `<TAB>` completion:"
   ]
  },
  {
   "cell_type": "code",
   "execution_count": 11,
   "metadata": {},
   "outputs": [
    {
     "data": {
      "text/plain": [
       "/a_group (Group) ''\n",
       "  children := ['my_array1' (Array), 'my_array2' (Array), 'another_group' (Group)]"
      ]
     },
     "execution_count": 11,
     "metadata": {},
     "output_type": "execute_result"
    }
   ],
   "source": [
    "f.root.a_group"
   ]
  },
  {
   "cell_type": "code",
   "execution_count": 12,
   "metadata": {
    "collapsed": true
   },
   "outputs": [],
   "source": [
    "f.close()"
   ]
  },
  {
   "cell_type": "markdown",
   "metadata": {},
   "source": [
    "## h5py\n",
    "\n",
    "`h5py` provides high level access to the HDF5 library while keeping as close to python `dict` like objects and `numpy`. Let's look at the HDF5 hierarchy in `h5py`:"
   ]
  },
  {
   "cell_type": "code",
   "execution_count": 14,
   "metadata": {
    "collapsed": true
   },
   "outputs": [],
   "source": [
    "import h5py"
   ]
  },
  {
   "cell_type": "code",
   "execution_count": 15,
   "metadata": {
    "collapsed": true
   },
   "outputs": [],
   "source": [
    "f = h5py.File(FILENAME, 'a')"
   ]
  },
  {
   "cell_type": "code",
   "execution_count": 16,
   "metadata": {},
   "outputs": [
    {
     "data": {
      "text/plain": [
       "['a_group']"
      ]
     },
     "execution_count": 16,
     "metadata": {},
     "output_type": "execute_result"
    }
   ],
   "source": [
    "list(f)"
   ]
  },
  {
   "cell_type": "markdown",
   "metadata": {},
   "source": [
    "The `h5py.File` object acts as a dictonary, which exposes the groups and datasets:"
   ]
  },
  {
   "cell_type": "code",
   "execution_count": 17,
   "metadata": {},
   "outputs": [
    {
     "data": {
      "text/plain": [
       "<HDF5 group \"/a_group\" (3 members)>"
      ]
     },
     "execution_count": 17,
     "metadata": {},
     "output_type": "execute_result"
    }
   ],
   "source": [
    "f['/a_group']"
   ]
  },
  {
   "cell_type": "markdown",
   "metadata": {},
   "source": [
    "Using the `dict` like property of the `h5py.File` object, we can view and access its members:"
   ]
  },
  {
   "cell_type": "code",
   "execution_count": 21,
   "metadata": {},
   "outputs": [
    {
     "data": {
      "text/plain": [
       "[('another_group', <HDF5 group \"/a_group/another_group\" (0 members)>),\n",
       " ('my_array1', <HDF5 dataset \"my_array1\": shape (10,), type \"<i4\">),\n",
       " ('my_array2', <HDF5 dataset \"my_array2\": shape (10, 10), type \"<f8\">)]"
      ]
     },
     "execution_count": 21,
     "metadata": {},
     "output_type": "execute_result"
    }
   ],
   "source": [
    "grp = f['/a_group']\n",
    "list(grp.items())"
   ]
  },
  {
   "cell_type": "markdown",
   "metadata": {},
   "source": [
    "Or just list() the `group`:"
   ]
  },
  {
   "cell_type": "code",
   "execution_count": 23,
   "metadata": {},
   "outputs": [
    {
     "data": {
      "text/plain": [
       "['another_group', 'my_array1', 'my_array2']"
      ]
     },
     "execution_count": 23,
     "metadata": {},
     "output_type": "execute_result"
    }
   ],
   "source": [
    "list(grp)"
   ]
  },
  {
   "cell_type": "markdown",
   "metadata": {},
   "source": [
    "`<TAB>` completion must be enabled in h5py:"
   ]
  },
  {
   "cell_type": "code",
   "execution_count": 24,
   "metadata": {
    "collapsed": true
   },
   "outputs": [],
   "source": [
    "h5py.enable_ipython_completer()"
   ]
  },
  {
   "cell_type": "code",
   "execution_count": 26,
   "metadata": {},
   "outputs": [
    {
     "data": {
      "text/plain": [
       "<HDF5 dataset \"my_array1\": shape (10,), type \"<i4\">"
      ]
     },
     "execution_count": 26,
     "metadata": {},
     "output_type": "execute_result"
    }
   ],
   "source": [
    "# use <TAB> completion:\n",
    "f['/a_group/my_array1']"
   ]
  },
  {
   "cell_type": "code",
   "execution_count": 20,
   "metadata": {},
   "outputs": [
    {
     "data": {
      "text/plain": [
       "<HDF5 group \"/a_group/YAG\" (0 members)>"
      ]
     },
     "execution_count": 20,
     "metadata": {},
     "output_type": "execute_result"
    }
   ],
   "source": [
    "f.create_group('/a_group/YAG')"
   ]
  },
  {
   "cell_type": "code",
   "execution_count": 21,
   "metadata": {
    "collapsed": true
   },
   "outputs": [],
   "source": [
    "f.close()"
   ]
  },
  {
   "cell_type": "code",
   "execution_count": null,
   "metadata": {
    "collapsed": true
   },
   "outputs": [],
   "source": []
  },
  {
   "cell_type": "markdown",
   "metadata": {},
   "source": [
    "# Attributes\n",
    "\n",
    "Attributes are small named pieces of data attached directly to Group and Dataset objects. Attributes are what makes HDF5 a “self-describing” format.  This is the official way to store metadata in HDF5.\n",
    "\n",
    "Investigate the way `h5py` and `PyTables` store and load attributes:\n",
    "\n",
    "```\n",
    "# h5py: .attrs dict-like interface\n",
    "f['some_group'].attrs['name'] = ...\n",
    "\n",
    "# pytables: get_node_attrs() and set_node_attrs()\n",
    "```\n",
    "\n",
    "**Assignment**:\n",
    "\n",
    "Using either `h5py` or `pytables`:\n",
    " * create a group (and/or dataset)\n",
    " * store some attributes in the group (and/or dataset).\n",
    " * read them with the *other* package.\n",
    "\n",
    "*Optional*:\n",
    " * store a string in an attribute using `pytables`. Read with `h5py`\n",
    " * `h5py` can store scalars and `numpy` arrays. `pytables` will also store python objects. Store a **class** in an attribute."
   ]
  },
  {
   "cell_type": "code",
   "execution_count": 26,
   "metadata": {
    "collapsed": true
   },
   "outputs": [],
   "source": [
    "#\n",
    "#\n",
    "# Solution starts here\n",
    "#\n",
    "#"
   ]
  },
  {
   "cell_type": "code",
   "execution_count": 29,
   "metadata": {
    "collapsed": true
   },
   "outputs": [],
   "source": [
    "fn = os.path.join(data_dir, \"attributes.h5\")"
   ]
  },
  {
   "cell_type": "code",
   "execution_count": 31,
   "metadata": {},
   "outputs": [],
   "source": [
    "with h5py.File(fn,'w') as f:\n",
    "    f.create_group('a_group')\n",
    "    f['a_group'].attrs['scalar'] = 42.\n",
    "    f['a_group'].attrs['array'] = np.arange(10)"
   ]
  },
  {
   "cell_type": "code",
   "execution_count": 32,
   "metadata": {},
   "outputs": [
    {
     "name": "stdout",
     "output_type": "stream",
     "text": [
      "HDF5 \"structuring\\attributes.h5\" {\n",
      "GROUP \"/\" {\n",
      "   GROUP \"a_group\" {\n",
      "      ATTRIBUTE \"array\" {\n",
      "         DATATYPE  H5T_STD_I32LE\n",
      "         DATASPACE  SIMPLE { ( 10 ) / ( 10 ) }\n",
      "         DATA {\n",
      "         (0): 0, 1, 2, 3, 4, 5, 6, 7, 8, 9\n",
      "         }\n",
      "      }\n",
      "      ATTRIBUTE \"scalar\" {\n",
      "         DATATYPE  H5T_IEEE_F64LE\n",
      "         DATASPACE  SCALAR\n",
      "         DATA {\n",
      "         (0): 42\n",
      "         }\n",
      "      }\n",
      "   }\n",
      "}\n",
      "}\n"
     ]
    }
   ],
   "source": [
    "!h5dump {fn}"
   ]
  },
  {
   "cell_type": "markdown",
   "metadata": {},
   "source": [
    "## String in attributes: pytables <> h5py incompatiblity."
   ]
  },
  {
   "cell_type": "code",
   "execution_count": 22,
   "metadata": {
    "collapsed": true
   },
   "outputs": [],
   "source": [
    "fn_h5py = os.path.join(data_dir, \"attributes_h5py.h5\")"
   ]
  },
  {
   "cell_type": "code",
   "execution_count": 23,
   "metadata": {
    "collapsed": true
   },
   "outputs": [],
   "source": [
    "with h5py.File(fn_h5py,'w') as f:\n",
    "    f.create_group('a_group')\n",
    "    f['a_group'].attrs['attribute_name'] = 'A string'"
   ]
  },
  {
   "cell_type": "code",
   "execution_count": 24,
   "metadata": {},
   "outputs": [
    {
     "name": "stdout",
     "output_type": "stream",
     "text": [
      "HDF5 \"structuring\\attributes_h5py.h5\" {\n",
      "GROUP \"/\" {\n",
      "   GROUP \"a_group\" {\n",
      "      ATTRIBUTE \"attribute_name\" {\n",
      "         DATATYPE  H5T_STRING {\n",
      "            STRSIZE H5T_VARIABLE;\n",
      "            STRPAD H5T_STR_NULLTERM;\n",
      "            CSET H5T_CSET_UTF8;\n",
      "            CTYPE H5T_C_S1;\n",
      "         }\n",
      "         DATASPACE  SCALAR\n",
      "         DATA {\n",
      "         (0): \"A string\"\n",
      "         }\n",
      "      }\n",
      "   }\n",
      "}\n",
      "}\n"
     ]
    }
   ],
   "source": [
    "!h5dump {fn_h5py}"
   ]
  },
  {
   "cell_type": "code",
   "execution_count": 25,
   "metadata": {
    "collapsed": true
   },
   "outputs": [],
   "source": [
    "fn_pytables = os.path.join(data_dir, \"attributes_pytables.h5\")\n",
    "with tables.open_file(fn_pytables, 'w') as f:\n",
    "    f.create_group('/', 'a_group')\n",
    "    f.set_node_attr('/a_group', 'attribute_name', 'A string')"
   ]
  },
  {
   "cell_type": "markdown",
   "metadata": {},
   "source": [
    "Can you read the string `pytables` wrote in the attribute in `h5py`? Why not?"
   ]
  },
  {
   "cell_type": "code",
   "execution_count": 27,
   "metadata": {
    "collapsed": true
   },
   "outputs": [],
   "source": [
    "with h5py.File(fn_pytables, 'r') as f:\n",
    "    #f['a_group'].attrs['attribute_name']  # OSERROR\n",
    "    pass"
   ]
  },
  {
   "cell_type": "code",
   "execution_count": 28,
   "metadata": {
    "scrolled": true
   },
   "outputs": [
    {
     "name": "stdout",
     "output_type": "stream",
     "text": [
      "HDF5 \"structuring\\attributes_pytables.h5\" {\n",
      "GROUP \"/\" {\n",
      "   ATTRIBUTE \"CLASS\" {\n",
      "      DATATYPE  H5T_STRING {\n",
      "         STRSIZE 5;\n",
      "         STRPAD H5T_STR_NULLTERM;\n",
      "         CSET H5T_CSET_UTF8;\n",
      "         CTYPE H5T_C_S1;\n",
      "      }\n",
      "      DATASPACE  SCALAR\n",
      "      DATA {\n",
      "      (0): \"GROUP\"\n",
      "      }\n",
      "   }\n",
      "   ATTRIBUTE \"PYTABLES_FORMAT_VERSION\" {\n",
      "      DATATYPE  H5T_STRING {\n",
      "         STRSIZE 3;\n",
      "         STRPAD H5T_STR_NULLTERM;\n",
      "         CSET H5T_CSET_UTF8;\n",
      "         CTYPE H5T_C_S1;\n",
      "      }\n",
      "      DATASPACE  SCALAR\n",
      "      DATA {\n",
      "      (0): \"2.1\"\n",
      "      }\n",
      "   }\n",
      "   ATTRIBUTE \"TITLE\" {\n",
      "      DATATYPE  H5T_STRING {\n",
      "         STRSIZE 1;\n",
      "         STRPAD H5T_STR_NULLTERM;\n",
      "         CSET H5T_CSET_UTF8;\n",
      "         CTYPE H5T_C_S1;\n",
      "      }\n",
      "      DATASPACE  NULL\n",
      "      DATA {\n",
      "      }\n",
      "   }\n",
      "   ATTRIBUTE \"VERSION\" {\n",
      "      DATATYPE  H5T_STRING {\n",
      "         STRSIZE 3;\n",
      "         STRPAD H5T_STR_NULLTERM;\n",
      "         CSET H5T_CSET_UTF8;\n",
      "         CTYPE H5T_C_S1;\n",
      "      }\n",
      "      DATASPACE  SCALAR\n",
      "      DATA {\n",
      "      (0): \"1.0\"\n",
      "      }\n",
      "   }\n",
      "   GROUP \"a_group\" {\n",
      "      ATTRIBUTE \"CLASS\" {\n",
      "         DATATYPE  H5T_STRING {\n",
      "            STRSIZE 5;\n",
      "            STRPAD H5T_STR_NULLTERM;\n",
      "            CSET H5T_CSET_UTF8;\n",
      "            CTYPE H5T_C_S1;\n",
      "         }\n",
      "         DATASPACE  SCALAR\n",
      "         DATA {\n",
      "         (0): \"GROUP\"\n",
      "         }\n",
      "      }\n",
      "      ATTRIBUTE \"TITLE\" {\n",
      "         DATATYPE  H5T_STRING {\n",
      "            STRSIZE 1;\n",
      "            STRPAD H5T_STR_NULLTERM;\n",
      "            CSET H5T_CSET_UTF8;\n",
      "            CTYPE H5T_C_S1;\n",
      "         }\n",
      "         DATASPACE  NULL\n",
      "         DATA {\n",
      "         }\n",
      "      }\n",
      "      ATTRIBUTE \"VERSION\" {\n",
      "         DATATYPE  H5T_STRING {\n",
      "            STRSIZE 3;\n",
      "            STRPAD H5T_STR_NULLTERM;\n",
      "            CSET H5T_CSET_UTF8;\n",
      "            CTYPE H5T_C_S1;\n",
      "         }\n",
      "         DATASPACE  SCALAR\n",
      "         DATA {\n",
      "         (0): \"1.0\"\n",
      "         }\n",
      "      }\n",
      "      ATTRIBUTE \"attribute_name\" {\n",
      "         DATATYPE  H5T_STRING {\n",
      "            STRSIZE 8;\n",
      "            STRPAD H5T_STR_NULLTERM;\n",
      "            CSET H5T_CSET_UTF8;\n",
      "            CTYPE H5T_C_S1;\n",
      "         }\n",
      "         DATASPACE  SCALAR\n",
      "         DATA {\n",
      "         (0): \"A string\"\n",
      "         }\n",
      "      }\n",
      "   }\n",
      "}\n",
      "}\n"
     ]
    }
   ],
   "source": [
    "!h5dump {fn_pytables}"
   ]
  },
  {
   "cell_type": "markdown",
   "metadata": {},
   "source": [
    "The culprit is the STRSIZE in:\n",
    "\n",
    "```\n",
    "ATTRIBUTE \"attribute_name\" {\n",
    "         DATATYPE  H5T_STRING {\n",
    "            STRSIZE 8;\n",
    "            STRPAD H5T_STR_NULLTERM;\n",
    "            CSET H5T_CSET_UTF8;\n",
    "            CTYPE H5T_C_S1;\n",
    "         }\n",
    "         DATASPACE  SCALAR\n",
    "         DATA {\n",
    "         (0): \"A string\"\n",
    "         }\n",
    "      }\n",
    "```\n",
    "\n",
    "Casting the string to a numpy string (`numpy.string_('A string')`) fixes this."
   ]
  },
  {
   "cell_type": "markdown",
   "metadata": {},
   "source": [
    "### Storing objects in attributes (pytables):"
   ]
  },
  {
   "cell_type": "code",
   "execution_count": 29,
   "metadata": {
    "collapsed": true
   },
   "outputs": [],
   "source": [
    "f = tables.open_file(fn_pytables, 'a') "
   ]
  },
  {
   "cell_type": "code",
   "execution_count": 30,
   "metadata": {
    "collapsed": true
   },
   "outputs": [],
   "source": [
    "class Foo(object):\n",
    "    def __init__(self, value):\n",
    "        self.value = value\n",
    "    def __repr__(self):\n",
    "        return \"This is class Foo with value: %s\" % self.value\n",
    "    \n",
    "foo = Foo('foo!')"
   ]
  },
  {
   "cell_type": "code",
   "execution_count": 31,
   "metadata": {
    "collapsed": true
   },
   "outputs": [],
   "source": [
    "f.set_node_attr('/a_group', 'attribute_name', foo)"
   ]
  },
  {
   "cell_type": "code",
   "execution_count": 32,
   "metadata": {},
   "outputs": [
    {
     "data": {
      "text/plain": [
       "This is class Foo with value: foo!"
      ]
     },
     "execution_count": 32,
     "metadata": {},
     "output_type": "execute_result"
    }
   ],
   "source": [
    "f.get_node_attr('/a_group', 'attribute_name')"
   ]
  },
  {
   "cell_type": "code",
   "execution_count": 33,
   "metadata": {
    "collapsed": true
   },
   "outputs": [],
   "source": [
    "f.close()"
   ]
  },
  {
   "cell_type": "code",
   "execution_count": 34,
   "metadata": {
    "collapsed": true
   },
   "outputs": [],
   "source": [
    "f = h5py.File(fn_pytables)"
   ]
  },
  {
   "cell_type": "code",
   "execution_count": 35,
   "metadata": {},
   "outputs": [
    {
     "data": {
      "text/plain": [
       "<HDF5 group \"/a_group\" (0 members)>"
      ]
     },
     "execution_count": 35,
     "metadata": {},
     "output_type": "execute_result"
    }
   ],
   "source": [
    "f['a_group']"
   ]
  },
  {
   "cell_type": "code",
   "execution_count": 36,
   "metadata": {},
   "outputs": [
    {
     "data": {
      "text/plain": [
       "['TITLE', 'CLASS', 'VERSION', 'attribute_name']"
      ]
     },
     "execution_count": 36,
     "metadata": {},
     "output_type": "execute_result"
    }
   ],
   "source": [
    "list(f['a_group'].attrs)"
   ]
  },
  {
   "cell_type": "code",
   "execution_count": 37,
   "metadata": {},
   "outputs": [
    {
     "data": {
      "text/plain": [
       "b'ccopy_reg\\n_reconstructor\\np0\\n(c__main__\\nFoo\\np1\\nc__builtin__\\nobject\\np2\\nNtp3\\nRp4\\n(dp5\\nVvalue\\np6\\nVfoo!\\np7\\nsb.'"
      ]
     },
     "execution_count": 37,
     "metadata": {},
     "output_type": "execute_result"
    }
   ],
   "source": [
    "f['a_group'].attrs['attribute_name']"
   ]
  },
  {
   "cell_type": "code",
   "execution_count": 38,
   "metadata": {
    "collapsed": true
   },
   "outputs": [],
   "source": [
    "f.close()"
   ]
  },
  {
   "cell_type": "code",
   "execution_count": null,
   "metadata": {
    "collapsed": true
   },
   "outputs": [],
   "source": []
  },
  {
   "cell_type": "markdown",
   "metadata": {},
   "source": [
    "In the next notebook we will look at datasets and datatypes. "
   ]
  }
 ],
 "metadata": {
  "kernelspec": {
   "display_name": "Python [conda env:hdf5]",
   "language": "python",
   "name": "conda-env-hdf5-py"
  },
  "language_info": {
   "codemirror_mode": {
    "name": "ipython",
    "version": 3
   },
   "file_extension": ".py",
   "mimetype": "text/x-python",
   "name": "python",
   "nbconvert_exporter": "python",
   "pygments_lexer": "ipython3",
   "version": "3.6.1"
  }
 },
 "nbformat": 4,
 "nbformat_minor": 2
}
