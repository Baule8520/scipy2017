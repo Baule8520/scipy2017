{
 "cells": [
  {
   "cell_type": "markdown",
   "metadata": {
    "collapsed": true
   },
   "source": [
    "# Part 2A: Low level API\n",
    "\n",
    "Goal:\n",
    "-----\n",
    "\n",
    "explore h5py functionality to directly access the low level HDF5 API in Python."
   ]
  },
  {
   "cell_type": "markdown",
   "metadata": {
    "collapsed": true
   },
   "source": [
    "h5py exposes the HDF5 low level API, which can be mixed with the high level interface.\n",
    "\n",
    "[The HDF5 low level API](https://support.hdfgroup.org/HDF5/doc/RM/RM_H5Front.html) is subdivided into sections:\n",
    " * H5A : Attributes\n",
    " * H5D : Datasets\n",
    " * H5F : File interface\n",
    "\n",
    "(...)\n",
    "\n",
    "h5py wrap these functions in cython modules:\n",
    " * h5py.h5a\n",
    " * h5py.h5d\n",
    " * h5py.hdf\n",
    " \n",
    "(...)\n",
    "\n",
    "Most of the wrappers function live in a proxy class. For example the `H5D` functions are contained in the `DatasetID` class.\n",
    "\n",
    "h5py low level API reference: http://api.h5py.org/index.html"
   ]
  },
  {
   "cell_type": "code",
   "execution_count": 2,
   "metadata": {
    "collapsed": true
   },
   "outputs": [],
   "source": [
    "import h5py\n",
    "import numpy as np"
   ]
  },
  {
   "cell_type": "code",
   "execution_count": 15,
   "metadata": {},
   "outputs": [
    {
     "data": {
      "text/plain": [
       "array([ 0,  1,  2,  3,  4,  5,  6,  7,  8,  9, 10, 11, 12, 13, 14, 15, 16,\n",
       "       17, 18, 19, 20, 21, 22, 23, 24, 25, 26, 27, 28, 29, 30, 31, 32, 33,\n",
       "       34, 35, 36, 37, 38, 39, 40, 41, 42, 43, 44, 45, 46, 47, 48, 49, 50,\n",
       "       51, 52, 53, 54, 55, 56, 57, 58, 59, 60, 61, 62, 63, 64, 65, 66, 67,\n",
       "       68, 69, 70, 71, 72, 73, 74, 75, 76, 77, 78, 79, 80, 81, 82, 83, 84,\n",
       "       85, 86, 87, 88, 89, 90, 91, 92, 93, 94, 95, 96, 97, 98, 99], dtype=int8)"
      ]
     },
     "execution_count": 15,
     "metadata": {},
     "output_type": "execute_result"
    }
   ],
   "source": [
    "f = h5py.File('dataset.h5', 'w')\n",
    "f['/data'] = np.arange(100, dtype=np.int8)\n",
    "f['/data'][:]"
   ]
  },
  {
   "cell_type": "markdown",
   "metadata": {},
   "source": [
    "### H5Dget_storage_size() : get size of dataset on disk\n",
    "```\n",
    "H5Dget_storage_size\n",
    "hsize_t H5Dget_storage_size( hid_t dataset_id )\n",
    "```\n",
    "HDF5 API reference: https://support.hdfgroup.org/HDF5/doc/RM/RM_H5D.html#Dataset-GetStorageSize\n",
    "\n",
    "h5py API docs: http://api.h5py.org/h5d.html"
   ]
  },
  {
   "cell_type": "code",
   "execution_count": 16,
   "metadata": {},
   "outputs": [
    {
     "data": {
      "text/plain": [
       "<HDF5 dataset \"data\": shape (100,), type \"|i1\">"
      ]
     },
     "execution_count": 16,
     "metadata": {},
     "output_type": "execute_result"
    }
   ],
   "source": [
    "dset = f['data']\n",
    "dset"
   ]
  },
  {
   "cell_type": "code",
   "execution_count": 17,
   "metadata": {},
   "outputs": [
    {
     "data": {
      "text/plain": [
       "<h5py.h5d.DatasetID at 0x22bd2a392c8>"
      ]
     },
     "execution_count": 17,
     "metadata": {},
     "output_type": "execute_result"
    }
   ],
   "source": [
    "dset.id"
   ]
  },
  {
   "cell_type": "markdown",
   "metadata": {},
   "source": [
    "The `DatasetID` class is a proxy object that wrap the H5D API in the Cython module `h5d.pyx`:\n"
   ]
  },
  {
   "cell_type": "code",
   "execution_count": 18,
   "metadata": {},
   "outputs": [
    {
     "data": {
      "text/plain": [
       "100"
      ]
     },
     "execution_count": 18,
     "metadata": {},
     "output_type": "execute_result"
    }
   ],
   "source": [
    "dset.id.get_storage_size()"
   ]
  },
  {
   "cell_type": "code",
   "execution_count": 19,
   "metadata": {
    "collapsed": true
   },
   "outputs": [],
   "source": [
    "f.close()"
   ]
  },
  {
   "cell_type": "markdown",
   "metadata": {},
   "source": [
    "## H5Pset_cache()\n",
    "https://support.hdfgroup.org/HDF5/doc/RM/RM_H5P.html#Property-SetCache\n",
    "\n",
    "Setting the file properties (chunk cache size)\n",
    "\n",
    "Inpired by the `h5py-cache` package by Mike Boyle: https://github.com/moble/h5py_cache\n",
    "See also: https://stackoverflow.com/questions/14653259/\n",
    "\n"
   ]
  },
  {
   "cell_type": "code",
   "execution_count": 20,
   "metadata": {
    "collapsed": true
   },
   "outputs": [],
   "source": [
    "# create file access properties. H5Pcreate()\n",
    "propfaid = h5py.h5p.create(h5py.h5p.FILE_ACCESS)"
   ]
  },
  {
   "cell_type": "code",
   "execution_count": 21,
   "metadata": {},
   "outputs": [
    {
     "data": {
      "text/plain": [
       "[0, 521, 1048576, 0.75]"
      ]
     },
     "execution_count": 21,
     "metadata": {},
     "output_type": "execute_result"
    }
   ],
   "source": [
    "settings = list(propfaid.get_cache())\n",
    "settings"
   ]
  },
  {
   "cell_type": "code",
   "execution_count": 41,
   "metadata": {
    "collapsed": true
   },
   "outputs": [],
   "source": [
    "nslots = 521\n",
    "chunk_cache_mem_size = 2 * 1024 * 1024  \n",
    "w0 = 0.75\n",
    "settings[1:] = (nslots, chunk_cache_mem_size, w0)\n",
    " \n",
    "propfaid.set_cache(*settings)"
   ]
  },
  {
   "cell_type": "code",
   "execution_count": 23,
   "metadata": {
    "collapsed": true
   },
   "outputs": [],
   "source": [
    "# open the file\n",
    "mode = h5py.h5f.ACC_TRUNC\n",
    "f = h5py.File(h5py.h5f.create(b'newfile.h5', flags=mode, fapl=propfaid))"
   ]
  },
  {
   "cell_type": "markdown",
   "metadata": {},
   "source": [
    "`We now have a \"regular\" (high-level interface) `h5py.File` object:"
   ]
  },
  {
   "cell_type": "code",
   "execution_count": 24,
   "metadata": {
    "collapsed": true
   },
   "outputs": [],
   "source": [
    "f['some_dataset'] = [0, 1, 2]"
   ]
  },
  {
   "cell_type": "code",
   "execution_count": 25,
   "metadata": {},
   "outputs": [
    {
     "data": {
      "text/plain": [
       "['some_dataset']"
      ]
     },
     "execution_count": 25,
     "metadata": {},
     "output_type": "execute_result"
    }
   ],
   "source": [
    "list(f)"
   ]
  },
  {
   "cell_type": "code",
   "execution_count": null,
   "metadata": {
    "collapsed": true
   },
   "outputs": [],
   "source": []
  },
  {
   "cell_type": "code",
   "execution_count": 26,
   "metadata": {
    "collapsed": true
   },
   "outputs": [],
   "source": [
    "f.close()"
   ]
  },
  {
   "cell_type": "markdown",
   "metadata": {},
   "source": [
    "# Exercise (Low level API)\n",
    "\n",
    "Reference:\n",
    "* h5py low level API http://api.h5py.org\n",
    "* h5py on Github http://www.github.com/h5py/h5py\n",
    "* HDF5 API reference https://support.hdfgroup.org/HDF5/doc/RM/RM_H5.html\n",
    "\n",
    "Use the low level `h5.H5get_lib_version` to get the HDF5 library version.\n",
    "- Find the function call in the h5py low level api\n",
    "- Find where H5get_lib_version is wrapped (github)\n",
    "- Find the lib version"
   ]
  },
  {
   "cell_type": "code",
   "execution_count": 4,
   "metadata": {
    "collapsed": true
   },
   "outputs": [],
   "source": [
    "#\n",
    "#\n",
    "# SOLUTION\n",
    "#\n",
    "#"
   ]
  },
  {
   "cell_type": "code",
   "execution_count": 3,
   "metadata": {},
   "outputs": [
    {
     "data": {
      "text/plain": [
       "(1, 8, 17)"
      ]
     },
     "execution_count": 3,
     "metadata": {},
     "output_type": "execute_result"
    }
   ],
   "source": [
    "h5py.h5.get_libversion()"
   ]
  },
  {
   "cell_type": "code",
   "execution_count": null,
   "metadata": {
    "collapsed": true
   },
   "outputs": [],
   "source": []
  }
 ],
 "metadata": {
  "kernelspec": {
   "display_name": "Python [conda env:py36]",
   "language": "python",
   "name": "conda-env-py36-py"
  },
  "language_info": {
   "codemirror_mode": {
    "name": "ipython",
    "version": 3
   },
   "file_extension": ".py",
   "mimetype": "text/x-python",
   "name": "python",
   "nbconvert_exporter": "python",
   "pygments_lexer": "ipython3",
   "version": "3.6.1"
  }
 },
 "nbformat": 4,
 "nbformat_minor": 2
}
