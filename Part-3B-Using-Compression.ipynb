{
 "cells": [
  {
   "cell_type": "markdown",
   "metadata": {},
   "source": [
    "# Part 3B Using compression"
   ]
  },
  {
   "cell_type": "markdown",
   "metadata": {},
   "source": [
    "> Objectives:\n",
    "> * How to compress chunked datasets\n",
    "> * Learn how to fine-tune the HDF5 compression pipeline to suit your needs\n",
    "> * How to use pandas for reading CSV files"
   ]
  },
  {
   "cell_type": "code",
   "execution_count": 7,
   "metadata": {
    "collapsed": true
   },
   "outputs": [],
   "source": [
    "import os\n",
    "import numpy as np\n",
    "import pandas as pd\n",
    "import tables"
   ]
  },
  {
   "cell_type": "code",
   "execution_count": 8,
   "metadata": {
    "collapsed": true
   },
   "outputs": [],
   "source": [
    "import os\n",
    "import shutil\n",
    "data_dir = \"compression\"\n",
    "if os.path.exists(data_dir):\n",
    "    shutil.rmtree(data_dir)\n",
    "os.mkdir(data_dir)"
   ]
  },
  {
   "cell_type": "markdown",
   "metadata": {},
   "source": [
    "## Intermezzo: the movielens-1M datasets"
   ]
  },
  {
   "cell_type": "markdown",
   "metadata": {},
   "source": [
    "Previous work by Greg Reda: http://www.gregreda.com/2013/10/26/using-pandas-on-the-movielens-dataset/\n",
    "\n",
    "This dataset describes 5-star rating and free-text tagging activity from MovieLens, a movie recommendation service. These files contain 1,000,209 anonymous ratings of approximately 3,900 movies  made by 6,040 MovieLens users who joined MovieLens in 2000.\n"
   ]
  },
  {
   "cell_type": "code",
   "execution_count": 48,
   "metadata": {},
   "outputs": [],
   "source": [
    "# Import CSV files via pandas\n",
    "dset = 'datasets\\movielens-1m'\n",
    "fdata = os.path.join(dset, 'ratings.dat.gz')\n",
    "fitem = os.path.join(dset, 'movies.dat.gz')\n",
    "\n",
    "# pass in column names for each CSV\n",
    "r_cols = ['user_id', 'movie_id', 'rating', 'unix_timestamp']\n",
    "ratings = pd.read_csv(fdata, sep=';', names=r_cols)\n",
    "\n",
    "m_cols = ['movie_id', 'title', 'genres']\n",
    "movies = pd.read_csv(fitem, sep=';', names=m_cols,\n",
    "                     dtype={'title': object, 'genres': object})"
   ]
  },
  {
   "cell_type": "code",
   "execution_count": 49,
   "metadata": {},
   "outputs": [
    {
     "data": {
      "text/html": [
       "<div>\n",
       "<style>\n",
       "    .dataframe thead tr:only-child th {\n",
       "        text-align: right;\n",
       "    }\n",
       "\n",
       "    .dataframe thead th {\n",
       "        text-align: left;\n",
       "    }\n",
       "\n",
       "    .dataframe tbody tr th {\n",
       "        vertical-align: top;\n",
       "    }\n",
       "</style>\n",
       "<table border=\"1\" class=\"dataframe\">\n",
       "  <thead>\n",
       "    <tr style=\"text-align: right;\">\n",
       "      <th></th>\n",
       "      <th>movie_id</th>\n",
       "      <th>title</th>\n",
       "      <th>genres</th>\n",
       "    </tr>\n",
       "  </thead>\n",
       "  <tbody>\n",
       "    <tr>\n",
       "      <th>0</th>\n",
       "      <td>1</td>\n",
       "      <td>Toy Story (1995)</td>\n",
       "      <td>Animation|Children's|Comedy</td>\n",
       "    </tr>\n",
       "    <tr>\n",
       "      <th>1</th>\n",
       "      <td>2</td>\n",
       "      <td>Jumanji (1995)</td>\n",
       "      <td>Adventure|Children's|Fantasy</td>\n",
       "    </tr>\n",
       "    <tr>\n",
       "      <th>2</th>\n",
       "      <td>3</td>\n",
       "      <td>Grumpier Old Men (1995)</td>\n",
       "      <td>Comedy|Romance</td>\n",
       "    </tr>\n",
       "    <tr>\n",
       "      <th>3</th>\n",
       "      <td>4</td>\n",
       "      <td>Waiting to Exhale (1995)</td>\n",
       "      <td>Comedy|Drama</td>\n",
       "    </tr>\n",
       "    <tr>\n",
       "      <th>4</th>\n",
       "      <td>5</td>\n",
       "      <td>Father of the Bride Part II (1995)</td>\n",
       "      <td>Comedy</td>\n",
       "    </tr>\n",
       "  </tbody>\n",
       "</table>\n",
       "</div>"
      ],
      "text/plain": [
       "   movie_id                               title                        genres\n",
       "0         1                    Toy Story (1995)   Animation|Children's|Comedy\n",
       "1         2                      Jumanji (1995)  Adventure|Children's|Fantasy\n",
       "2         3             Grumpier Old Men (1995)                Comedy|Romance\n",
       "3         4            Waiting to Exhale (1995)                  Comedy|Drama\n",
       "4         5  Father of the Bride Part II (1995)                        Comedy"
      ]
     },
     "execution_count": 49,
     "metadata": {},
     "output_type": "execute_result"
    }
   ],
   "source": [
    "movies.head()"
   ]
  },
  {
   "cell_type": "code",
   "execution_count": 50,
   "metadata": {},
   "outputs": [
    {
     "name": "stdout",
     "output_type": "stream",
     "text": [
      "<class 'pandas.core.frame.DataFrame'>\n",
      "RangeIndex: 3883 entries, 0 to 3882\n",
      "Data columns (total 3 columns):\n",
      "movie_id    3883 non-null int64\n",
      "title       3883 non-null object\n",
      "genres      3883 non-null object\n",
      "dtypes: int64(1), object(2)\n",
      "memory usage: 91.1+ KB\n"
     ]
    }
   ],
   "source": [
    "movies.info()"
   ]
  },
  {
   "cell_type": "code",
   "execution_count": 46,
   "metadata": {},
   "outputs": [
    {
     "data": {
      "text/plain": [
       "movie_id    object:dense\n",
       "title       object:dense\n",
       "genres      object:dense\n",
       "dtype: object"
      ]
     },
     "execution_count": 46,
     "metadata": {},
     "output_type": "execute_result"
    }
   ],
   "source": [
    "movies.ftypes"
   ]
  },
  {
   "cell_type": "code",
   "execution_count": 47,
   "metadata": {},
   "outputs": [
    {
     "data": {
      "text/html": [
       "<div>\n",
       "<style>\n",
       "    .dataframe thead tr:only-child th {\n",
       "        text-align: right;\n",
       "    }\n",
       "\n",
       "    .dataframe thead th {\n",
       "        text-align: left;\n",
       "    }\n",
       "\n",
       "    .dataframe tbody tr th {\n",
       "        vertical-align: top;\n",
       "    }\n",
       "</style>\n",
       "<table border=\"1\" class=\"dataframe\">\n",
       "  <thead>\n",
       "    <tr style=\"text-align: right;\">\n",
       "      <th></th>\n",
       "      <th></th>\n",
       "      <th></th>\n",
       "      <th>user_id</th>\n",
       "      <th>movie_id</th>\n",
       "      <th>rating</th>\n",
       "      <th>unix_timestamp</th>\n",
       "    </tr>\n",
       "  </thead>\n",
       "  <tbody>\n",
       "    <tr>\n",
       "      <th rowspan=\"5\" valign=\"top\">1</th>\n",
       "      <th rowspan=\"5\" valign=\"top\">NaN</th>\n",
       "      <th>122</th>\n",
       "      <td>NaN</td>\n",
       "      <td>5.0</td>\n",
       "      <td>NaN</td>\n",
       "      <td>838985046</td>\n",
       "    </tr>\n",
       "    <tr>\n",
       "      <th>185</th>\n",
       "      <td>NaN</td>\n",
       "      <td>5.0</td>\n",
       "      <td>NaN</td>\n",
       "      <td>838983525</td>\n",
       "    </tr>\n",
       "    <tr>\n",
       "      <th>231</th>\n",
       "      <td>NaN</td>\n",
       "      <td>5.0</td>\n",
       "      <td>NaN</td>\n",
       "      <td>838983392</td>\n",
       "    </tr>\n",
       "    <tr>\n",
       "      <th>292</th>\n",
       "      <td>NaN</td>\n",
       "      <td>5.0</td>\n",
       "      <td>NaN</td>\n",
       "      <td>838983421</td>\n",
       "    </tr>\n",
       "    <tr>\n",
       "      <th>316</th>\n",
       "      <td>NaN</td>\n",
       "      <td>5.0</td>\n",
       "      <td>NaN</td>\n",
       "      <td>838983392</td>\n",
       "    </tr>\n",
       "  </tbody>\n",
       "</table>\n",
       "</div>"
      ],
      "text/plain": [
       "           user_id  movie_id  rating  unix_timestamp\n",
       "1 NaN 122      NaN       5.0     NaN       838985046\n",
       "      185      NaN       5.0     NaN       838983525\n",
       "      231      NaN       5.0     NaN       838983392\n",
       "      292      NaN       5.0     NaN       838983421\n",
       "      316      NaN       5.0     NaN       838983392"
      ]
     },
     "execution_count": 47,
     "metadata": {},
     "output_type": "execute_result"
    }
   ],
   "source": [
    "ratings.head()"
   ]
  },
  {
   "cell_type": "code",
   "execution_count": 14,
   "metadata": {},
   "outputs": [
    {
     "data": {
      "text/plain": [
       "user_id           int64:dense\n",
       "movie_id          int64:dense\n",
       "rating            int64:dense\n",
       "unix_timestamp    int64:dense\n",
       "dtype: object"
      ]
     },
     "execution_count": 14,
     "metadata": {},
     "output_type": "execute_result"
    }
   ],
   "source": [
    "ratings.ftypes"
   ]
  },
  {
   "cell_type": "markdown",
   "metadata": {},
   "source": [
    "## Storing in HDF5/PyTables in compressed form"
   ]
  },
  {
   "cell_type": "code",
   "execution_count": 15,
   "metadata": {
    "collapsed": true
   },
   "outputs": [],
   "source": [
    "def to_hdf5(ratings, movies, filters):\n",
    "    \n",
    "    class Ratings(tables.IsDescription):\n",
    "        user_id = tables.Int32Col(pos=0)\n",
    "        movie_id = tables.Int32Col(pos=1)\n",
    "        rating = tables.Int8Col(pos=2)\n",
    "        unix_timestamp = tables.Int64Col(pos=3)\n",
    "    \n",
    "    class Movies(tables.IsDescription):\n",
    "        movie_id = tables.Int32Col(pos=0)\n",
    "        title = tables.StringCol(100, pos=1)\n",
    "        genres = tables.StringCol(50, pos=2)\n",
    "    \n",
    "    def get_filename(filters):\n",
    "        if filters.complevel != 0:\n",
    "            complib = filters.complib if \":\" not in filters.complib else filters.complib.replace(\":\", \"-\")\n",
    "            shuffle = \"shuffle\" if filters.shuffle else \"noshuffle\"\n",
    "            filename = \"%s/%s-%d-%s.h5\" % (data_dir, complib, filters.complevel, shuffle)\n",
    "        else:\n",
    "            filename = \"%s/no-compression.h5\" % (data_dir,)\n",
    "        return filename\n",
    "\n",
    "    filename = get_filename(filters)\n",
    "    print(\"Creating file:\", filename)\n",
    "    with tables.open_file(filename, \"w\") as f:\n",
    "        table_ratings = f.create_table(f.root, \"ratings\", Ratings, filters=filters, expectedrows=len(ratings))\n",
    "        table_ratings.append([ratings[col].values for col in ratings.ftypes.keys()])\n",
    "        table_movies = f.create_table(f.root, \"movies\", Movies, filters=filters, expectedrows=len(movies))\n",
    "        table_movies.append([movies[col].values for col in movies.ftypes.keys()])\n",
    "    return filename"
   ]
  },
  {
   "cell_type": "code",
   "execution_count": 16,
   "metadata": {},
   "outputs": [
    {
     "name": "stdout",
     "output_type": "stream",
     "text": [
      "Creating file: compression/zlib-5-shuffle.h5\n",
      "Wall time: 639 ms\n"
     ]
    }
   ],
   "source": [
    "%%time\n",
    "filters = tables.Filters(complevel=5)\n",
    "h5file = to_hdf5(ratings, movies, filters)"
   ]
  },
  {
   "cell_type": "code",
   "execution_count": 17,
   "metadata": {},
   "outputs": [
    {
     "name": "stdout",
     "output_type": "stream",
     "text": [
      "/ (RootGroup) ''\n",
      "/movies (Table(3883,), shuffle, zlib(5)) ''\n",
      "  description := {\n",
      "  \"movie_id\": Int32Col(shape=(), dflt=0, pos=0),\n",
      "  \"title\": StringCol(itemsize=100, shape=(), dflt=b'', pos=1),\n",
      "  \"genres\": StringCol(itemsize=50, shape=(), dflt=b'', pos=2)}\n",
      "  byteorder := 'little'\n",
      "  chunkshape := (425,)\n",
      "/ratings (Table(1000209,), shuffle, zlib(5)) ''\n",
      "  description := {\n",
      "  \"user_id\": Int32Col(shape=(), dflt=0, pos=0),\n",
      "  \"movie_id\": Int32Col(shape=(), dflt=0, pos=1),\n",
      "  \"rating\": Int8Col(shape=(), dflt=0, pos=2),\n",
      "  \"unix_timestamp\": Int64Col(shape=(), dflt=0, pos=3)}\n",
      "  byteorder := 'little'\n",
      "  chunkshape := (7710,)\n"
     ]
    }
   ],
   "source": [
    "!ptdump -v {h5file}"
   ]
  },
  {
   "cell_type": "markdown",
   "metadata": {},
   "source": [
    "### Exercise 1\n",
    "\n",
    "PyTables comes with out-of-box support for a series of codecs.  Do a quick comparison between \"zlib\", \"bzip2\", and \"blosc\" for compression levels of 1 (fastest), 5 and 9 (slowest).  Which one compresses best?  Which one compresses faster?\n",
    "\n",
    "Also, Blosc being a meta-compressor, it has support for different codecs internally that can be selected from PyTables in the \"blosc:`codec`\" form.  Do another comparison between internal Blosc codecs, namely, \"blosc:blosclz\" (the default), \"blosc:lz4\", \"blosc:lz4hc\", \"blosc:snappy\", \"blosc:zlib\" and \"blosc:zstd\".\n",
    "\n",
    "Finally, avoid any compression totally (`complevel=0`).  How fast it is compared with existing codecs?"
   ]
  },
  {
   "cell_type": "code",
   "execution_count": 18,
   "metadata": {},
   "outputs": [
    {
     "name": "stdout",
     "output_type": "stream",
     "text": [
      "Creating file: compression/zlib-5-shuffle.h5\n",
      "Wall time: 640 ms\n",
      "Creating file: compression/zlib-5-shuffle.h5\n"
     ]
    },
    {
     "name": "stderr",
     "output_type": "stream",
     "text": [
      "C:\\Miniconda3\\envs\\py36\\lib\\site-packages\\tables\\filters.py:331: FiltersWarning: compression library ``bzip2`` is not available; using ``zlib`` instead\n",
      "  % (complib, default_complib), FiltersWarning)\n"
     ]
    },
    {
     "name": "stdout",
     "output_type": "stream",
     "text": [
      "Wall time: 609 ms\n",
      "Creating file: compression/blosc-5-shuffle.h5\n",
      "Wall time: 131 ms\n"
     ]
    }
   ],
   "source": [
    "for complib in (\"zlib\", \"bzip2\", \"blosc\"):\n",
    "    filters = tables.Filters(complevel=5, complib=complib)\n",
    "    %time to_hdf5(ratings, movies, filters)"
   ]
  },
  {
   "cell_type": "code",
   "execution_count": 19,
   "metadata": {},
   "outputs": [
    {
     "name": "stdout",
     "output_type": "stream",
     "text": [
      "total 9.3M\n",
      "-rw-r--r-- 1 tomkooij 197613 5.0M Jun 19 10:58 blosc-5-shuffle.h5\n",
      "-rw-r--r-- 1 tomkooij 197613 4.3M Jun 19 10:58 zlib-5-shuffle.h5\n"
     ]
    }
   ],
   "source": [
    "!ls -lh {data_dir}"
   ]
  },
  {
   "cell_type": "code",
   "execution_count": 20,
   "metadata": {},
   "outputs": [
    {
     "name": "stdout",
     "output_type": "stream",
     "text": [
      "Creating file: compression/blosc-blosclz-5-shuffle.h5\n",
      "Wall time: 148 ms\n",
      "Creating file: compression/blosc-lz4-5-shuffle.h5\n",
      "Wall time: 94.1 ms\n",
      "Creating file: compression/blosc-lz4hc-5-shuffle.h5\n",
      "Wall time: 331 ms\n",
      "Creating file: compression/blosc-snappy-5-shuffle.h5\n",
      "Wall time: 115 ms\n",
      "Creating file: compression/blosc-zlib-5-shuffle.h5\n",
      "Wall time: 664 ms\n",
      "Creating file: compression/blosc-zstd-5-shuffle.h5\n",
      "Wall time: 559 ms\n"
     ]
    }
   ],
   "source": [
    "for complib in (\"blosc:blosclz\", \"blosc:lz4\", \"blosc:lz4hc\", \"blosc:snappy\", \"blosc:zlib\", \"blosc:zstd\"):\n",
    "    filters = tables.Filters(complevel=5, complib=complib)\n",
    "    %time to_hdf5(ratings, movies, filters)"
   ]
  },
  {
   "cell_type": "code",
   "execution_count": 21,
   "metadata": {},
   "outputs": [
    {
     "name": "stdout",
     "output_type": "stream",
     "text": [
      "Creating file: compression/no-compression.h5\n",
      "Wall time: 86 ms\n"
     ]
    },
    {
     "data": {
      "text/plain": [
       "'compression/no-compression.h5'"
      ]
     },
     "execution_count": 21,
     "metadata": {},
     "output_type": "execute_result"
    }
   ],
   "source": [
    "# Finally, the uncompressed case\n",
    "filters = tables.Filters(complevel=0)\n",
    "%time to_hdf5(ratings, movies, filters)"
   ]
  },
  {
   "cell_type": "code",
   "execution_count": 22,
   "metadata": {},
   "outputs": [
    {
     "name": "stdout",
     "output_type": "stream",
     "text": [
      "total 56M\n",
      "-rw-r--r-- 1 tomkooij 197613 5.0M Jun 19 10:58 blosc-5-shuffle.h5\n",
      "-rw-r--r-- 1 tomkooij 197613 5.0M Jun 19 10:58 blosc-blosclz-5-shuffle.h5\n",
      "-rw-r--r-- 1 tomkooij 197613 5.4M Jun 19 10:58 blosc-lz4-5-shuffle.h5\n",
      "-rw-r--r-- 1 tomkooij 197613 4.8M Jun 19 10:58 blosc-lz4hc-5-shuffle.h5\n",
      "-rw-r--r-- 1 tomkooij 197613 5.5M Jun 19 10:58 blosc-snappy-5-shuffle.h5\n",
      "-rw-r--r-- 1 tomkooij 197613 4.4M Jun 19 10:58 blosc-zlib-5-shuffle.h5\n",
      "-rw-r--r-- 1 tomkooij 197613 4.3M Jun 19 10:58 blosc-zstd-5-shuffle.h5\n",
      "-rw-r--r-- 1 tomkooij 197613  17M Jun 19 10:58 no-compression.h5\n",
      "-rw-r--r-- 1 tomkooij 197613 4.3M Jun 19 10:58 zlib-5-shuffle.h5\n"
     ]
    }
   ],
   "source": [
    "!ls -lh {data_dir}"
   ]
  },
  {
   "cell_type": "markdown",
   "metadata": {},
   "source": [
    "## Reading compressed datasets"
   ]
  },
  {
   "cell_type": "code",
   "execution_count": 23,
   "metadata": {
    "collapsed": true
   },
   "outputs": [],
   "source": [
    "files = list(os.walk(data_dir))[0][2]"
   ]
  },
  {
   "cell_type": "code",
   "execution_count": 24,
   "metadata": {},
   "outputs": [
    {
     "data": {
      "text/plain": [
       "['blosc-5-shuffle.h5',\n",
       " 'blosc-blosclz-5-shuffle.h5',\n",
       " 'blosc-lz4-5-shuffle.h5',\n",
       " 'blosc-lz4hc-5-shuffle.h5',\n",
       " 'blosc-snappy-5-shuffle.h5',\n",
       " 'blosc-zlib-5-shuffle.h5',\n",
       " 'blosc-zstd-5-shuffle.h5',\n",
       " 'no-compression.h5',\n",
       " 'zlib-5-shuffle.h5']"
      ]
     },
     "execution_count": 24,
     "metadata": {},
     "output_type": "execute_result"
    }
   ],
   "source": [
    "files"
   ]
  },
  {
   "cell_type": "code",
   "execution_count": 25,
   "metadata": {},
   "outputs": [
    {
     "name": "stdout",
     "output_type": "stream",
     "text": [
      "Reading file: blosc-5-shuffle.h5\n",
      "Wall time: 56 ms\n",
      "Reading file: blosc-blosclz-5-shuffle.h5\n",
      "Wall time: 41 ms\n",
      "Reading file: blosc-lz4-5-shuffle.h5\n",
      "Wall time: 32 ms\n",
      "Reading file: blosc-lz4hc-5-shuffle.h5\n",
      "Wall time: 32 ms\n",
      "Reading file: blosc-snappy-5-shuffle.h5\n",
      "Wall time: 52.2 ms\n",
      "Reading file: blosc-zlib-5-shuffle.h5\n",
      "Wall time: 107 ms\n",
      "Reading file: blosc-zstd-5-shuffle.h5\n",
      "Wall time: 58 ms\n",
      "Reading file: no-compression.h5\n",
      "Wall time: 19 ms\n",
      "Reading file: zlib-5-shuffle.h5\n",
      "Wall time: 125 ms\n"
     ]
    }
   ],
   "source": [
    "for f in files:\n",
    "    print(\"Reading file:\", f)\n",
    "    with tables.open_file(os.path.join(data_dir, f)) as h5f:\n",
    "        %time h5f.root.ratings[:]"
   ]
  },
  {
   "cell_type": "markdown",
   "metadata": {},
   "source": [
    "### Exercise 2\n",
    "\n",
    "Which codec and compression level can read the fastest?  How it does compare with reading an uncompressed dataset?"
   ]
  },
  {
   "cell_type": "markdown",
   "metadata": {},
   "source": [
    "### Exercise 3\n",
    "\n",
    "Blosc can use multithreading for compressing/decompressing, although it is disabled by default.  You can enable a multithreaded Blosc in a series of ways, but perhaps the easiest is to set the \"BLOSC_NTHREADS\" environment variable to the desired number of threads (typically the available number of cores in your computer).\n",
    "\n",
    "Execute the cell below and re-do the reading benchmarks and look at how the reading speed vary.  Pay special attention to the difference between the CPU times and wall times."
   ]
  },
  {
   "cell_type": "code",
   "execution_count": 26,
   "metadata": {
    "collapsed": true
   },
   "outputs": [],
   "source": [
    "os.environ[\"BLOSC_NTHREADS\"] = \"4\"  # set to any other number you prefer"
   ]
  },
  {
   "cell_type": "code",
   "execution_count": 40,
   "metadata": {},
   "outputs": [
    {
     "name": "stdout",
     "output_type": "stream",
     "text": [
      "Reading file: blosc-5-shuffle.h5 nthreads= 1\n",
      "Wall time: 52 ms\n",
      "Reading file: blosc-5-shuffle.h5 nthreads= 2\n",
      "Wall time: 48.1 ms\n",
      "Reading file: blosc-5-shuffle.h5 nthreads= 4\n",
      "Wall time: 41.6 ms\n",
      "Reading file: blosc-blosclz-5-shuffle.h5 nthreads= 1\n",
      "Wall time: 41 ms\n",
      "Reading file: blosc-blosclz-5-shuffle.h5 nthreads= 2\n",
      "Wall time: 53 ms\n",
      "Reading file: blosc-blosclz-5-shuffle.h5 nthreads= 4\n",
      "Wall time: 43.2 ms\n",
      "Reading file: blosc-lz4-5-shuffle.h5 nthreads= 1\n",
      "Wall time: 31 ms\n",
      "Reading file: blosc-lz4-5-shuffle.h5 nthreads= 2\n",
      "Wall time: 33.7 ms\n",
      "Reading file: blosc-lz4-5-shuffle.h5 nthreads= 4\n",
      "Wall time: 38.8 ms\n",
      "Reading file: blosc-lz4hc-5-shuffle.h5 nthreads= 1\n",
      "Wall time: 39 ms\n",
      "Reading file: blosc-lz4hc-5-shuffle.h5 nthreads= 2\n",
      "Wall time: 30 ms\n",
      "Reading file: blosc-lz4hc-5-shuffle.h5 nthreads= 4\n",
      "Wall time: 36.2 ms\n",
      "Reading file: blosc-snappy-5-shuffle.h5 nthreads= 1\n",
      "Wall time: 40 ms\n",
      "Reading file: blosc-snappy-5-shuffle.h5 nthreads= 2\n",
      "Wall time: 46.4 ms\n",
      "Reading file: blosc-snappy-5-shuffle.h5 nthreads= 4\n",
      "Wall time: 43.6 ms\n",
      "Reading file: blosc-zlib-5-shuffle.h5 nthreads= 1\n",
      "Wall time: 106 ms\n",
      "Reading file: blosc-zlib-5-shuffle.h5 nthreads= 2\n",
      "Wall time: 76.7 ms\n",
      "Reading file: blosc-zlib-5-shuffle.h5 nthreads= 4\n",
      "Wall time: 76.5 ms\n",
      "Reading file: blosc-zstd-5-shuffle.h5 nthreads= 1\n",
      "Wall time: 59 ms\n",
      "Reading file: blosc-zstd-5-shuffle.h5 nthreads= 2\n",
      "Wall time: 52 ms\n",
      "Reading file: blosc-zstd-5-shuffle.h5 nthreads= 4\n",
      "Wall time: 62.3 ms\n",
      "Reading file: no-compression.h5 nthreads= 1\n",
      "Wall time: 19 ms\n",
      "Reading file: no-compression.h5 nthreads= 2\n",
      "Wall time: 19 ms\n",
      "Reading file: no-compression.h5 nthreads= 4\n",
      "Wall time: 19 ms\n",
      "Reading file: zlib-5-shuffle.h5 nthreads= 1\n",
      "Wall time: 125 ms\n",
      "Reading file: zlib-5-shuffle.h5 nthreads= 2\n",
      "Wall time: 121 ms\n",
      "Reading file: zlib-5-shuffle.h5 nthreads= 4\n",
      "Wall time: 130 ms\n"
     ]
    }
   ],
   "source": [
    "for f in files:\n",
    "    for nthreads in [1, 2, 4]:\n",
    "        os.environ[\"BLOSC_NTHREADS\"] = \"%s\" % nthreads\n",
    "        print(\"Reading file:\", f, 'nthreads=', os.environ[\"BLOSC_NTHREADS\"])\n",
    "        with tables.open_file(os.path.join(data_dir, f)) as h5f:\n",
    "            %time h5f.root.ratings[:]"
   ]
  },
  {
   "cell_type": "code",
   "execution_count": null,
   "metadata": {
    "collapsed": true
   },
   "outputs": [],
   "source": []
  }
 ],
 "metadata": {
  "kernelspec": {
   "display_name": "Python [default]",
   "language": "python",
   "name": "python3"
  },
  "language_info": {
   "codemirror_mode": {
    "name": "ipython",
    "version": 3
   },
   "file_extension": ".py",
   "mimetype": "text/x-python",
   "name": "python",
   "nbconvert_exporter": "python",
   "pygments_lexer": "ipython3",
   "version": "3.6.1"
  }
 },
 "nbformat": 4,
 "nbformat_minor": 2
}
